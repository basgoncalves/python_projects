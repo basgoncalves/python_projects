{
 "cells": [
  {
   "cell_type": "code",
   "execution_count": null,
   "metadata": {},
   "outputs": [],
   "source": [
    "import xml.etree.ElementTree as ET\n",
    "\n",
    "xml_path = r\"C:\\Git\\python_projects\\story_biomechanics\\version2\\009\\pre\\scaled_model.osim\"\n",
    "tree = ET.parse(xml_path)\n",
    "root = tree.getroot()\n",
    "muscle_groups = {}\n",
    "force_set = root.find('ForceSet')\n",
    "for group in force_set.findall('groups'):\n",
    "    group_name = group.get('name')\n",
    "    members = group.find('members').text.split()\n",
    "    muscle_groups[group_name] = members\n",
    "\n",
    "\n"
   ]
  }
 ],
 "metadata": {
  "kernelspec": {
   "display_name": ".venv",
   "language": "python",
   "name": "python3"
  },
  "language_info": {
   "name": "python",
   "version": "3.11.9"
  }
 },
 "nbformat": 4,
 "nbformat_minor": 2
}
