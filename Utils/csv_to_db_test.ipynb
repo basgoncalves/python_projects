{
 "cells": [
  {
   "cell_type": "code",
   "execution_count": 25,
   "metadata": {},
   "outputs": [],
   "source": [
    "# IMPORT LIBRARIES\n",
    "import pandas as pd\n",
    "from pathlib import Path\n",
    "import os\n",
    "import sqlite3\n",
    "import numpy as np\n",
    "from pandas.api.types import is_numeric_dtype\n"
   ]
  },
  {
   "cell_type": "code",
   "execution_count": 26,
   "metadata": {},
   "outputs": [],
   "source": [
    "# CREATE SQL FIELDS FROM CSV\n",
    "\n",
    "def create_sql_fields(df):                                          # gather the headers of the CSV and create two strings \n",
    "    fields_sql = []                                                 # str1 = var1 TYPE, va2, TYPE ...\n",
    "    header_names = []                                               # str2 = var1, var2, var3, var4\n",
    "    for col in range(0,len(df.columns)):\n",
    "        fields_sql.append(df.columns[col])\n",
    "        fields_sql.append(str(df.dtypes[col]))\n",
    "\n",
    "        header_names.append(df.columns[col])\n",
    "        if col != len(df.columns)-1:\n",
    "            fields_sql.append(',')\n",
    "            header_names.append(',')\n",
    "\n",
    "    fields_sql = ' '.join(fields_sql)\n",
    "    fields_sql = fields_sql.replace('int64','integer')\n",
    "    fields_sql = fields_sql.replace('float64','integer')\n",
    "    fields_sql = fields_sql.replace('object','text')\n",
    "\n",
    "    header_sql_string = '(' + ''.join(header_names) + ')'\n",
    "    \n",
    "    return fields_sql, header_sql_string\n"
   ]
  },
  {
   "cell_type": "code",
   "execution_count": 27,
   "metadata": {},
   "outputs": [],
   "source": [
    "# LOAD CSV \n",
    "csv_filedir = os.path.join('C:\\\\Code\\\\Git\\\\DataScience_code_academy\\\\Data_Science_skills\\\\NY_Restaurants\\\\nomnom.csv')\n",
    "data = pd.read_csv(csv_filedir)   \n",
    "csv_df = pd.DataFrame(data)\n"
   ]
  },
  {
   "cell_type": "code",
   "execution_count": null,
   "metadata": {},
   "outputs": [],
   "source": [
    "# STRUTURE DATA\n",
    "for col in csv_df.columns:\n",
    "    if is_numeric_dtype(csv_df[col].dtype)==0:\n",
    "        csv_df[col] = csv_df[col].str.replace(\"\\'\", \"\\'\\'\")     # replace \" ' \" for \" '' \" for SQL in each column\n",
    "        csv_df[col] = csv_df[col].str.replace(\"\\\\\", \"\\\\\\'\")     # replace \" ' \" for \" '' \" for SQL in each column\n",
    "\n",
    "csv_df = csv_df.fillna('NULL')                              # make NaN = to 'NULL' for SQL format \n",
    "\n"
   ]
  },
  {
   "cell_type": "code",
   "execution_count": 29,
   "metadata": {},
   "outputs": [],
   "source": [
    "# CREATE / OPEN DATABASE\n",
    "[path,filename] = os.path.split(csv_filedir)                # define path and filename for .db file\n",
    "[filename,_] = os.path.splitext(filename)\n",
    "database_filedir = os.path.join(path, filename + '.db')\n",
    "\n",
    "conn = sqlite3.connect(database_filedir)                    # connect to SQL server\n",
    "\n",
    "[fields_sql, header_sql_string] = create_sql_fields(csv_df)\n",
    "\n",
    "create_sql = ''.join(['CREATE TABLE IF NOT EXISTS ' + filename + ' (' + fields_sql + ')'])\n",
    "cursor = conn.cursor()\n",
    "_ = cursor.execute(create_sql)\n",
    "\n",
    "   "
   ]
  },
  {
   "cell_type": "code",
   "execution_count": null,
   "metadata": {},
   "outputs": [],
   "source": [
    "# INSERT EACH ROW IN THE SQL DATABASE\n",
    "csv_tuple = csv_df.values.tolist()\n",
    "for irow in csv_tuple:\n",
    "    insert_values_string = ''.join(['INSERT INTO ', filename, header_sql_string, ' VALUES'])\n",
    "    insert_sql = f\"{insert_values_string} {tuple(irow)}\"\n",
    "    print(insert_sql)\n",
    "    cursor.execute(insert_sql)\n",
    "\n",
    "# COMMIT CHANGES TO DATABASE AND CLOSE CONNECTION\n",
    "conn.commit()\n",
    "conn.close()\n",
    "\n",
    "print('\\n' + csv_filedir + ' \\n converted to \\n' + database_filedir)"
   ]
  },
  {
   "cell_type": "code",
   "execution_count": null,
   "metadata": {},
   "outputs": [],
   "source": [
    "# random data tyoe conversions\n",
    "insert_sql = f\"{insert_values_string} {irow[1]}, '{irow[2]}','{irow[3]}', {irow[4]}, '{irow[5]}' )\"\n",
    "print('insert_sql' , insert_sql)\n",
    "print('type insert_sql = ' + str(type(insert_sql)))\n",
    "print('   ')\n",
    "\n",
    "print('{tuple(irow)} = ', {tuple(irow)})\n",
    "print('type tuple(irow) = ', type({tuple(irow)}))\n",
    "print('   ')\n",
    "\n",
    "print('type irow[3] = ' + str(type(irow[3])))\n",
    "print('   ')\n",
    "\n",
    "row = ({irow[1]}, {irow[2]},{irow[3]}, {irow[4]}, {irow[5]})\n",
    "print('row = ' + str(row))\n",
    "print('type row = ' + str(type(row)))\n",
    "\n",
    "row_set = set(row)\n",
    "print('row_set = ' + str(row_set))\n",
    "print('type row_set = ' + str(type(row_set)))"
   ]
  },
  {
   "cell_type": "code",
   "execution_count": 12,
   "metadata": {},
   "outputs": [
    {
     "data": {
      "text/plain": [
       "'Japanese'"
      ]
     },
     "execution_count": 12,
     "metadata": {},
     "output_type": "execute_result"
    }
   ],
   "source": []
  }
 ],
 "metadata": {
  "kernelspec": {
   "display_name": "Python 3.8.10 64-bit (windows store)",
   "language": "python",
   "name": "python3"
  },
  "language_info": {
   "codemirror_mode": {
    "name": "ipython",
    "version": 3
   },
   "file_extension": ".py",
   "mimetype": "text/x-python",
   "name": "python",
   "nbconvert_exporter": "python",
   "pygments_lexer": "ipython3",
   "version": "3.8.10"
  },
  "orig_nbformat": 4,
  "vscode": {
   "interpreter": {
    "hash": "ccaf4f2b870b44d404ebc97758e8555864a76105cb721a293c812313f4b24d8e"
   }
  }
 },
 "nbformat": 4,
 "nbformat_minor": 2
}
