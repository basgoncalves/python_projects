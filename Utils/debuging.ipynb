{
 "cells": [
  {
   "cell_type": "code",
   "execution_count": 10,
   "metadata": {},
   "outputs": [
    {
     "name": "stdout",
     "output_type": "stream",
     "text": [
      "C:\\Git\\Python_projects\n"
     ]
    }
   ],
   "source": [
    "# make sure to cd into the git repo foler\n",
    "\n",
    "import subprocess\n",
    "import sys\n",
    "import os\n",
    "import time\n",
    "from git_repos import import_repos\n",
    "\n",
    "repos = import_repos()\n",
    "\n",
    "# loop over the list \n",
    "for repo_directory in repos:\n",
    "    os.chdir(repo_directory)\n",
    "    time.sleep(0.75)\n",
    "    # pull\n",
    "    a = subprocess.run([\"git\", \"status\"], cwd=repo_directory, stdout=subprocess.DEVNULL, stderr=subprocess.STDOUT)\n",
    "    if repo_directory.__contains__('Python_projects'):\n",
    "        print(repo_directory)\n",
    "        b = a\n",
    "     \n",
    "\n"
   ]
  },
  {
   "cell_type": "code",
   "execution_count": 11,
   "metadata": {},
   "outputs": [
    {
     "name": "stdout",
     "output_type": "stream",
     "text": [
      "CompletedProcess(args=['git', 'status'], returncode=0)\n"
     ]
    }
   ],
   "source": [
    "print(b)"
   ]
  }
 ],
 "metadata": {
  "kernelspec": {
   "display_name": "Python 3",
   "language": "python",
   "name": "python3"
  },
  "language_info": {
   "codemirror_mode": {
    "name": "ipython",
    "version": 3
   },
   "file_extension": ".py",
   "mimetype": "text/x-python",
   "name": "python",
   "nbconvert_exporter": "python",
   "pygments_lexer": "ipython3",
   "version": "3.10.4"
  },
  "orig_nbformat": 4,
  "vscode": {
   "interpreter": {
    "hash": "6d644aacad239065b370893fefb29285686498ecbbc8cafad5ff61f44754b4d2"
   }
  }
 },
 "nbformat": 4,
 "nbformat_minor": 2
}
