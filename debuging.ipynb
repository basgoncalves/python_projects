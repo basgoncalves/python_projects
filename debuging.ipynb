{
 "cells": [
  {
   "cell_type": "code",
   "execution_count": 5,
   "metadata": {},
   "outputs": [
    {
     "name": "stdout",
     "output_type": "stream",
     "text": [
      "['RunA1', 'RunL1', 'Run_baselineA1', 'Run_baselineA2', 'Run_baselineA3', 'Run_baselineB1', 'Run_baselineB2', 'Run_baselineB3']\n"
     ]
    }
   ],
   "source": [
    "import requests\n",
    "import os\n",
    "from bs4 import BeautifulSoup\n",
    "import pandas as pd\n",
    "from distutils.dir_util import copy_tree\n",
    "import shutil\n",
    "\n",
    "datafolder = r'C:\\Users\\Biomech\\Documents\\DataFolder\\Running_FAI'\n",
    "subject_folders = os.listdir(datafolder)\n",
    "folders = ['ceinms', 'dynamicElaborations', 'inverseDynamics',\n",
    "                   'inverseKinematics','JointReactionAnalysis']\n",
    "\n",
    "class struct:\n",
    "    pass\n",
    "\n",
    "results = struct()\n",
    "results.subject = []\n",
    "results.ik = pd.DataFrame()\n",
    "\n",
    "for subject in subject_folders[0:]:\n",
    "    results.subject.append(subject)\n",
    "    ik_path = os.path.join(datafolder,subject,'pre','inverseKinematics')\n",
    "    tirals = os.listdir(ik_path)\n",
    "    for itrial in tirals:\n",
    "        results.ik\n",
    "    \n",
    "    \n",
    "    \n",
    "print (tirals)  \n"
   ]
  },
  {
   "cell_type": "code",
   "execution_count": 4,
   "metadata": {},
   "outputs": [
    {
     "name": "stdout",
     "output_type": "stream",
     "text": [
      "['007', '008', '009', '010', '012', '013', '015', '017', '018', '019', '021', '022', '024', '025', '026', '027', '028', '029', '030', '031', '032', '033', '034', '036', '037', '038', '039', '040', '041', '043', '044', '045', '047', '048', '050', '052', '054', '055', '056', '058', '060', '061', '064', '070', '072', '073', '074', '075', '076', '077', '078', '079']\n"
     ]
    }
   ],
   "source": [
    "print(subject_folders)"
   ]
  },
  {
   "cell_type": "code",
   "execution_count": null,
   "metadata": {},
   "outputs": [],
   "source": [
    "price = soup.find('span', attrs={\n",
    "     'data-testid': 'contact-box-price-box-price-value-0'}, class_='Text-sc-10o2fdq-0 iYbzSg').text.strip()\n",
    "costs_tree = soup.findAll('span', class_='Text-sc-10o2fdq-0 jfmShM')\n",
    "costs = []\n",
    "for i in range(0, len(costs_tree)):\n",
    "    costs.append(costs_tree[i].find(\n",
    "        'span', class_='Text-sc-10o2fdq-0 gxQSIC').text.strip())\n",
    "    if i != len(costs_tree)-1:\n",
    "        costs.append(' + ')    \n",
    "costs = ' '.join(costs).replace('.', ',')\n",
    "\n",
    "print('')\n",
    "print('')\n",
    "print('Data from URL:')\n",
    "print('address: ' + address)\n",
    "print('price: ' + price)\n",
    "print('costs: ' + costs)\n",
    "\n",
    "data = {'address': [address], 'price': [price], 'costs': [costs],\n",
    "        'url': [url]}\n",
    "\n",
    "df = pd.DataFrame(data)\n",
    "df[0:].to_clipboard(excel=True, sep=None, index=False, header=None)\n"
   ]
  }
 ],
 "metadata": {
  "kernelspec": {
   "display_name": "Python 3",
   "language": "python",
   "name": "python3"
  },
  "language_info": {
   "codemirror_mode": {
    "name": "ipython",
    "version": 3
   },
   "file_extension": ".py",
   "mimetype": "text/x-python",
   "name": "python",
   "nbconvert_exporter": "python",
   "pygments_lexer": "ipython3",
   "version": "3.10.8"
  },
  "orig_nbformat": 4,
  "vscode": {
   "interpreter": {
    "hash": "ff6112af49b3833da0490db166f9d223de76c8696f7aa6ddf799f267add999df"
   }
  }
 },
 "nbformat": 4,
 "nbformat_minor": 2
}
