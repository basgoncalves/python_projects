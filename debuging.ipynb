{
 "cells": [
  {
   "cell_type": "code",
   "execution_count": 1,
   "metadata": {},
   "outputs": [
    {
     "ename": "TypeError",
     "evalue": "expected str, bytes or os.PathLike object, not list",
     "output_type": "error",
     "traceback": [
      "\u001b[1;31m---------------------------------------------------------------------------\u001b[0m",
      "\u001b[1;31mTypeError\u001b[0m                                 Traceback (most recent call last)",
      "Cell \u001b[1;32mIn [1], line 22\u001b[0m\n\u001b[0;32m     20\u001b[0m \u001b[39mfor\u001b[39;00m subject \u001b[39min\u001b[39;00m subject_folders[\u001b[39m0\u001b[39m:]:\n\u001b[0;32m     21\u001b[0m     results\u001b[39m.\u001b[39msubject\u001b[39m.\u001b[39mappend(subject)\n\u001b[1;32m---> 22\u001b[0m     ik_path \u001b[39m=\u001b[39m os\u001b[39m.\u001b[39;49mpath\u001b[39m.\u001b[39;49mjoin(subject_folders,subject,\u001b[39m'\u001b[39;49m\u001b[39mpre\u001b[39;49m\u001b[39m'\u001b[39;49m,\u001b[39m'\u001b[39;49m\u001b[39minverseKinematics\u001b[39;49m\u001b[39m'\u001b[39;49m)\n\u001b[0;32m     23\u001b[0m     tirals \u001b[39m=\u001b[39m os\u001b[39m.\u001b[39mlistdir(ik_path)\n\u001b[0;32m     26\u001b[0m \u001b[39mprint\u001b[39m (tirals)\n",
      "File \u001b[1;32mc:\\Users\\Biomech\\AppData\\Local\\Programs\\Python\\Python310\\lib\\ntpath.py:104\u001b[0m, in \u001b[0;36mjoin\u001b[1;34m(path, *paths)\u001b[0m\n\u001b[0;32m    103\u001b[0m \u001b[39mdef\u001b[39;00m \u001b[39mjoin\u001b[39m(path, \u001b[39m*\u001b[39mpaths):\n\u001b[1;32m--> 104\u001b[0m     path \u001b[39m=\u001b[39m os\u001b[39m.\u001b[39;49mfspath(path)\n\u001b[0;32m    105\u001b[0m     \u001b[39mif\u001b[39;00m \u001b[39misinstance\u001b[39m(path, \u001b[39mbytes\u001b[39m):\n\u001b[0;32m    106\u001b[0m         sep \u001b[39m=\u001b[39m \u001b[39mb\u001b[39m\u001b[39m'\u001b[39m\u001b[39m\\\\\u001b[39;00m\u001b[39m'\u001b[39m\n",
      "\u001b[1;31mTypeError\u001b[0m: expected str, bytes or os.PathLike object, not list"
     ]
    }
   ],
   "source": [
    "import requests\n",
    "import os\n",
    "from bs4 import BeautifulSoup\n",
    "import pandas as pd\n",
    "from distutils.dir_util import copy_tree\n",
    "import shutil\n",
    "\n",
    "datafolder = r'C:\\Users\\Biomech\\Documents\\DataFolder\\Running_FAI'\n",
    "subject_folders = os.listdir(datafolder)\n",
    "folders = ['ceinms', 'dynamicElaborations', 'inverseDynamics',\n",
    "                   'inverseKinematics','JointReactionAnalysis']\n",
    "\n",
    "class struct:\n",
    "    pass\n",
    "\n",
    "results = struct()\n",
    "results.subject = []\n",
    "results.ik = []\n",
    "\n",
    "for subject in subject_folders[0:]:\n",
    "    results.subject.append(subject)\n",
    "    ik_path = os.path.join(subject_folders,subject,'pre','inverseKinematics')\n",
    "    tirals = os.listdir(ik_path)\n",
    "    \n",
    "    \n",
    "print (tirals)  \n"
   ]
  },
  {
   "cell_type": "code",
   "execution_count": 6,
   "metadata": {},
   "outputs": [
    {
     "name": "stdout",
     "output_type": "stream",
     "text": [
      "Muscle Architecture, Morphology, and Mechanical and Functional Properties of Biceps Femoris Long Head in Professional Soccer Players with a Prior Healed Injured Hamstring\n"
     ]
    }
   ],
   "source": [
    "print(title)"
   ]
  },
  {
   "cell_type": "code",
   "execution_count": null,
   "metadata": {},
   "outputs": [],
   "source": [
    "price = soup.find('span', attrs={\n",
    "     'data-testid': 'contact-box-price-box-price-value-0'}, class_='Text-sc-10o2fdq-0 iYbzSg').text.strip()\n",
    "costs_tree = soup.findAll('span', class_='Text-sc-10o2fdq-0 jfmShM')\n",
    "costs = []\n",
    "for i in range(0, len(costs_tree)):\n",
    "    costs.append(costs_tree[i].find(\n",
    "        'span', class_='Text-sc-10o2fdq-0 gxQSIC').text.strip())\n",
    "    if i != len(costs_tree)-1:\n",
    "        costs.append(' + ')    \n",
    "costs = ' '.join(costs).replace('.', ',')\n",
    "\n",
    "print('')\n",
    "print('')\n",
    "print('Data from URL:')\n",
    "print('address: ' + address)\n",
    "print('price: ' + price)\n",
    "print('costs: ' + costs)\n",
    "\n",
    "data = {'address': [address], 'price': [price], 'costs': [costs],\n",
    "        'url': [url]}\n",
    "\n",
    "df = pd.DataFrame(data)\n",
    "df[0:].to_clipboard(excel=True, sep=None, index=False, header=None)\n"
   ]
  }
 ],
 "metadata": {
  "kernelspec": {
   "display_name": "Python 3",
   "language": "python",
   "name": "python3"
  },
  "language_info": {
   "codemirror_mode": {
    "name": "ipython",
    "version": 3
   },
   "file_extension": ".py",
   "mimetype": "text/x-python",
   "name": "python",
   "nbconvert_exporter": "python",
   "pygments_lexer": "ipython3",
   "version": "3.10.8"
  },
  "orig_nbformat": 4,
  "vscode": {
   "interpreter": {
    "hash": "ff6112af49b3833da0490db166f9d223de76c8696f7aa6ddf799f267add999df"
   }
  }
 },
 "nbformat": 4,
 "nbformat_minor": 2
}
