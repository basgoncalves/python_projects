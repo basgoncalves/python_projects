{
 "cells": [
  {
   "cell_type": "code",
   "execution_count": 28,
   "metadata": {},
   "outputs": [
    {
     "name": "stdout",
     "output_type": "stream",
     "text": [
      "['c:\\\\Git\\\\Python_projects', 'C:\\\\OpenSim 4.4\\\\sdk\\\\Python', 'c:\\\\Users\\\\Biomech\\\\AppData\\\\Local\\\\Programs\\\\Python\\\\Python38\\\\python38.zip', 'c:\\\\Users\\\\Biomech\\\\AppData\\\\Local\\\\Programs\\\\Python\\\\Python38\\\\DLLs', 'c:\\\\Users\\\\Biomech\\\\AppData\\\\Local\\\\Programs\\\\Python\\\\Python38\\\\lib', 'c:\\\\Users\\\\Biomech\\\\AppData\\\\Local\\\\Programs\\\\Python\\\\Python38', '', 'c:\\\\Users\\\\Biomech\\\\AppData\\\\Local\\\\Programs\\\\Python\\\\Python38\\\\lib\\\\site-packages', 'c:\\\\Users\\\\Biomech\\\\AppData\\\\Local\\\\Programs\\\\Python\\\\Python38\\\\lib\\\\site-packages\\\\win32', 'c:\\\\Users\\\\Biomech\\\\AppData\\\\Local\\\\Programs\\\\Python\\\\Python38\\\\lib\\\\site-packages\\\\win32\\\\lib', 'c:\\\\Users\\\\Biomech\\\\AppData\\\\Local\\\\Programs\\\\Python\\\\Python38\\\\lib\\\\site-packages\\\\Pythonwin', 'C:\\\\Users\\\\Biomech\\\\AppData\\\\Local\\\\Programs\\\\Python\\\\Python38\\\\Lib\\\\site-packages\\\\btk', 'C:\\\\Users\\\\Biomech\\\\AppData\\\\Local\\\\Programs\\\\Python\\\\Python38\\\\Lib\\\\site-packages\\\\btk', 'C:\\\\Git\\\\Python_projects\\\\MskModelling\\\\BTKPython-master']\n"
     ]
    }
   ],
   "source": [
    "from opensim import C3DFileAdapter\n",
    "import opensim as osim\n",
    "import numpy as np\n",
    "import os\n",
    "from MskModelling import bops\n",
    "import pandas as pd\n",
    "import numpy as np\n",
    "import pyc3dserver as c3d\n",
    "import sys\n",
    "sys.path.append(r'C:\\Users\\Biomech\\AppData\\Local\\Programs\\Python\\Python38\\Lib\\site-packages\\btk')\n",
    "sys.path.append(r'C:\\Git\\Python_projects\\MskModelling\\BTKPython-master')\n",
    "print(sys.path)\n"
   ]
  },
  {
   "cell_type": "code",
   "execution_count": 29,
   "metadata": {},
   "outputs": [
    {
     "name": "stdout",
     "output_type": "stream",
     "text": [
      "['c:\\\\Git\\\\Python_projects', 'C:\\\\OpenSim 4.4\\\\sdk\\\\Python', 'c:\\\\Users\\\\Biomech\\\\AppData\\\\Local\\\\Programs\\\\Python\\\\Python38\\\\python38.zip', 'c:\\\\Users\\\\Biomech\\\\AppData\\\\Local\\\\Programs\\\\Python\\\\Python38\\\\DLLs', 'c:\\\\Users\\\\Biomech\\\\AppData\\\\Local\\\\Programs\\\\Python\\\\Python38\\\\lib', 'c:\\\\Users\\\\Biomech\\\\AppData\\\\Local\\\\Programs\\\\Python\\\\Python38', '', 'c:\\\\Users\\\\Biomech\\\\AppData\\\\Local\\\\Programs\\\\Python\\\\Python38\\\\lib\\\\site-packages', 'c:\\\\Users\\\\Biomech\\\\AppData\\\\Local\\\\Programs\\\\Python\\\\Python38\\\\lib\\\\site-packages\\\\win32', 'c:\\\\Users\\\\Biomech\\\\AppData\\\\Local\\\\Programs\\\\Python\\\\Python38\\\\lib\\\\site-packages\\\\win32\\\\lib', 'c:\\\\Users\\\\Biomech\\\\AppData\\\\Local\\\\Programs\\\\Python\\\\Python38\\\\lib\\\\site-packages\\\\Pythonwin', 'C:\\\\Users\\\\Biomech\\\\AppData\\\\Local\\\\Programs\\\\Python\\\\Python38\\\\Lib\\\\site-packages\\\\btk', 'C:\\\\Git\\\\Python_projects\\\\MskModelling\\\\BTKPython-master']\n"
     ]
    }
   ],
   "source": [
    "try:    \n",
    "    sys.path.remove(r'C:\\Users\\Biomech\\AppData\\Local\\Programs\\Python\\Python38\\Lib\\site-packages\\btk')\n",
    "    print(sys.path)\n",
    "except: print('btk not in the path anymore')\n",
    "\n"
   ]
  },
  {
   "cell_type": "code",
   "execution_count": null,
   "metadata": {},
   "outputs": [],
   "source": [
    "import sys\n",
    "sys.path.append(r\"C:\\Users\\Bas\\AppData\\Local\\Programs\\Python\\Python311\\Lib\\site-packages\\btk\\_btk.pyd\")\n",
    "import btk"
   ]
  },
  {
   "cell_type": "code",
   "execution_count": 1,
   "metadata": {},
   "outputs": [],
   "source": [
    "try:\n",
    "    import opensim as osim\n",
    "    print(\"opensim package installed properly\")\n",
    "except: \n",
    "    print(\"opensim package not well installed\")\n",
    "    "
   ]
  }
 ],
 "metadata": {
  "kernelspec": {
   "display_name": "Python 3",
   "language": "python",
   "name": "python3"
  },
  "language_info": {
   "codemirror_mode": {
    "name": "ipython",
    "version": 3
   },
   "file_extension": ".py",
   "mimetype": "text/x-python",
   "name": "python",
   "nbconvert_exporter": "python",
   "pygments_lexer": "ipython3",
   "version": "3.8.0"
  },
  "orig_nbformat": 4,
  "vscode": {
   "interpreter": {
    "hash": "6d644aacad239065b370893fefb29285686498ecbbc8cafad5ff61f44754b4d2"
   }
  }
 },
 "nbformat": 4,
 "nbformat_minor": 2
}
