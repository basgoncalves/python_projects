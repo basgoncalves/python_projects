{
 "cells": [
  {
   "cell_type": "code",
   "execution_count": 5,
   "metadata": {},
   "outputs": [
    {
     "name": "stderr",
     "output_type": "stream",
     "text": [
      "<>:18: SyntaxWarning: \"is\" with a literal. Did you mean \"==\"?\n",
      "<>:18: SyntaxWarning: \"is\" with a literal. Did you mean \"==\"?\n",
      "C:\\Users\\Biomech\\AppData\\Local\\Temp\\ipykernel_9544\\953106234.py:18: SyntaxWarning: \"is\" with a literal. Did you mean \"==\"?\n",
      "  if exist_changes_to_commit is 0:\n"
     ]
    },
    {
     "name": "stdout",
     "output_type": "stream",
     "text": [
      "these repos have unsolved commits\n",
      "C:\\Git\\Python_projects\n",
      "CompletedProcess(args=['git', 'status'], returncode=0, stdout=b'On branch main\\nYour branch is up to date with \\'origin/main\\'.\\n\\nChanges to be committed:\\n  (use \"git restore --staged <file>...\" to unstage)\\n\\tmodified:   Reference_finder/ncbi.html\\n\\nChanges not staged for commit:\\n  (use \"git add <file>...\" to update what will be committed)\\n  (use \"git restore <file>...\" to discard changes in working directory)\\n\\tmodified:   Utils/debuging.ipynb\\n\\tmodified:   Utils/git_pull.py\\n\\nUntracked files:\\n  (use \"git add <file>...\" to include in what will be committed)\\n\\tUtils/__pycache__/git_repos.cpython-38.pyc\\n\\n', stderr=b'')\n",
      "C:\\Git\\MSKmodelling\n",
      "CompletedProcess(args=['git', 'status'], returncode=0, stdout=b'On branch hjc_trc\\nYour branch is up to date with \\'origin/hjc_trc\\'.\\n\\nChanges not staged for commit:\\n  (use \"git add <file>...\" to update what will be committed)\\n  (use \"git restore <file>...\" to discard changes in working directory)\\n\\tmodified:   Projects/Tibial_Torsion_2022/torsion_tool_bops.m\\n\\nno changes added to commit (use \"git add\" and/or \"git commit -a\")\\n', stderr=b'')\n"
     ]
    }
   ],
   "source": [
    "# make sure to cd into the git repo foler\n",
    "\n",
    "import subprocess\n",
    "import sys\n",
    "import os\n",
    "import time\n",
    "from git_repos import import_repos\n",
    "\n",
    "repos = import_repos()\n",
    "exist_changes_to_commit = 0\n",
    "# loop over the list \n",
    "for repo_directory in repos:\n",
    "    os.chdir(repo_directory)\n",
    "    time.sleep(0.75)\n",
    "    # pull\n",
    "    output = subprocess.run([\"git\", \"status\"], cwd=repo_directory, stdout=subprocess.PIPE, stderr=subprocess.PIPE) \n",
    "    if output.stdout is not None and not str(output.stdout).__contains__('working tree clean'):\n",
    "        if exist_changes_to_commit == 0:\n",
    "            print('these repos have unsolved commits')\n",
    "            exist_changes_to_commit = 1\n",
    "        print(repo_directory)\n",
    "        "
   ]
  },
  {
   "cell_type": "code",
   "execution_count": 11,
   "metadata": {},
   "outputs": [
    {
     "name": "stdout",
     "output_type": "stream",
     "text": [
      "CompletedProcess(args=['git', 'status'], returncode=0)\n"
     ]
    }
   ],
   "source": [
    "print(b)"
   ]
  }
 ],
 "metadata": {
  "kernelspec": {
   "display_name": "Python 3",
   "language": "python",
   "name": "python3"
  },
  "language_info": {
   "codemirror_mode": {
    "name": "ipython",
    "version": 3
   },
   "file_extension": ".py",
   "mimetype": "text/x-python",
   "name": "python",
   "nbconvert_exporter": "python",
   "pygments_lexer": "ipython3",
   "version": "3.8.0"
  },
  "orig_nbformat": 4,
  "vscode": {
   "interpreter": {
    "hash": "6d644aacad239065b370893fefb29285686498ecbbc8cafad5ff61f44754b4d2"
   }
  }
 },
 "nbformat": 4,
 "nbformat_minor": 2
}
