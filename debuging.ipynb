{
 "cells": [
  {
   "cell_type": "code",
   "execution_count": 1,
   "metadata": {},
   "outputs": [],
   "source": [
    "import requests\n",
    "import os\n",
    "from bs4 import BeautifulSoup\n",
    "import pandas as pd\n",
    "\n",
    "# SELECT CSV FILE PATH AND LOAD DATA\n",
    "url = 'https://www.willhaben.at/iad/immobilien/d/mietwohnungen/wien/wien-1150-rudolfsheim-fuenfhaus/ideal-angebundener-singlehit-mit-balkon-622884436/'\n",
    "\n",
    "data = requests.get(url)\n",
    "\n",
    "current_script_path = os.getcwd()               # .ipynb\n",
    "# current_script_path = os.path.dirname(__file__) # .py\n",
    "\n",
    "filename = os.path.join(current_script_path, '.\\\\ncbi.html')\n",
    "with open(filename, 'w+', encoding=\"utf-8\") as f:\n",
    "    f.write(data.text)\n",
    "\n",
    "dfs = []  # create data frame\n",
    "with open(filename, 'r', encoding=\"utf-8\") as f:\n",
    "    page = f.read()\n",
    "\n",
    "soup = BeautifulSoup(page, 'html.parser')\n"
   ]
  },
  {
   "cell_type": "code",
   "execution_count": 9,
   "metadata": {},
   "outputs": [
    {
     "name": "stdout",
     "output_type": "stream",
     "text": [
      "None\n"
     ]
    }
   ],
   "source": [
    "\n",
    "address = soup.find('div', attrs={\n",
    "    'data-testid': 'object-location-address'}, class_='Box-sc-wfmb7k-0')\n",
    "\n",
    "print(address)"
   ]
  },
  {
   "cell_type": "code",
   "execution_count": null,
   "metadata": {},
   "outputs": [],
   "source": [
    "price = soup.find('span', attrs={\n",
    "     'data-testid': 'contact-box-price-box-price-value-0'}, class_='Text-sc-10o2fdq-0 iYbzSg').text.strip()\n",
    "costs_tree = soup.findAll('span', class_='Text-sc-10o2fdq-0 jfmShM')\n",
    "costs = []\n",
    "for i in range(0, len(costs_tree)):\n",
    "    costs.append(costs_tree[i].find(\n",
    "        'span', class_='Text-sc-10o2fdq-0 gxQSIC').text.strip())\n",
    "    if i != len(costs_tree)-1:\n",
    "        costs.append(' + ')    \n",
    "costs = ' '.join(costs).replace('.', ',')\n",
    "\n",
    "print('')\n",
    "print('')\n",
    "print('Data from URL:')\n",
    "print('address: ' + address)\n",
    "print('price: ' + price)\n",
    "print('costs: ' + costs)\n",
    "\n",
    "data = {'address': [address], 'price': [price], 'costs': [costs],\n",
    "        'url': [url]}\n",
    "\n",
    "df = pd.DataFrame(data)\n",
    "df[0:].to_clipboard(excel=True, sep=None, index=False, header=None)\n"
   ]
  }
 ],
 "metadata": {
  "kernelspec": {
   "display_name": "Python 3.10.8 ('data_science_env': venv)",
   "language": "python",
   "name": "python3"
  },
  "language_info": {
   "codemirror_mode": {
    "name": "ipython",
    "version": 3
   },
   "file_extension": ".py",
   "mimetype": "text/x-python",
   "name": "python",
   "nbconvert_exporter": "python",
   "pygments_lexer": "ipython3",
   "version": "3.10.8"
  },
  "orig_nbformat": 4,
  "vscode": {
   "interpreter": {
    "hash": "a2da2187c5f939d6bace25c3f016fea9570cfbfe6b2b9be895f82fc64b320192"
   }
  }
 },
 "nbformat": 4,
 "nbformat_minor": 2
}
