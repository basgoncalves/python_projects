{
 "cells": [
  {
   "cell_type": "code",
   "execution_count": 6,
   "metadata": {},
   "outputs": [
    {
     "name": "stdout",
     "output_type": "stream",
     "text": [
      "these repos have unsolved commits\n",
      "C:\\Git\\Python_projects\n",
      "C:\\Git\\MSKmodelling\n"
     ]
    }
   ],
   "source": [
    "# make sure to cd into the git repo foler\n",
    "\n",
    "import subprocess\n",
    "import sys\n",
    "import os\n",
    "import time\n",
    "from git_repos import import_repos\n",
    "\n",
    "repos = import_repos()\n",
    "exist_changes_to_commit = 0\n",
    "# loop over the list \n",
    "for repo_directory in repos:\n",
    "    os.chdir(repo_directory)\n",
    "    time.sleep(0.75)\n",
    "    # pull\n",
    "    output = subprocess.run([\"git\", \"status\"], cwd=repo_directory, stdout=subprocess.PIPE, stderr=subprocess.PIPE) \n",
    "    if output.stdout is not None and not str(output.stdout).__contains__('working tree clean'):\n",
    "        if exist_changes_to_commit == 0:\n",
    "            print('these repos have unsolved commits')\n",
    "            exist_changes_to_commit = 1\n",
    "        print(repo_directory)\n",
    "        "
   ]
  },
  {
   "cell_type": "code",
   "execution_count": 11,
   "metadata": {},
   "outputs": [
    {
     "name": "stdout",
     "output_type": "stream",
     "text": [
      "CompletedProcess(args=['git', 'status'], returncode=0)\n"
     ]
    }
   ],
   "source": [
    "print(b)"
   ]
  }
 ],
 "metadata": {
  "kernelspec": {
   "display_name": "Python 3",
   "language": "python",
   "name": "python3"
  },
  "language_info": {
   "codemirror_mode": {
    "name": "ipython",
    "version": 3
   },
   "file_extension": ".py",
   "mimetype": "text/x-python",
   "name": "python",
   "nbconvert_exporter": "python",
   "pygments_lexer": "ipython3",
   "version": "3.8.0"
  },
  "orig_nbformat": 4,
  "vscode": {
   "interpreter": {
    "hash": "6d644aacad239065b370893fefb29285686498ecbbc8cafad5ff61f44754b4d2"
   }
  }
 },
 "nbformat": 4,
 "nbformat_minor": 2
}
