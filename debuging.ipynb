{
 "cells": [
  {
   "cell_type": "code",
   "execution_count": 28,
   "metadata": {},
   "outputs": [
    {
     "name": "stdout",
     "output_type": "stream",
     "text": [
      "['c:\\\\Git\\\\Python_projects', 'C:\\\\OpenSim 4.4\\\\sdk\\\\Python', 'c:\\\\Users\\\\Biomech\\\\AppData\\\\Local\\\\Programs\\\\Python\\\\Python38\\\\python38.zip', 'c:\\\\Users\\\\Biomech\\\\AppData\\\\Local\\\\Programs\\\\Python\\\\Python38\\\\DLLs', 'c:\\\\Users\\\\Biomech\\\\AppData\\\\Local\\\\Programs\\\\Python\\\\Python38\\\\lib', 'c:\\\\Users\\\\Biomech\\\\AppData\\\\Local\\\\Programs\\\\Python\\\\Python38', '', 'c:\\\\Users\\\\Biomech\\\\AppData\\\\Local\\\\Programs\\\\Python\\\\Python38\\\\lib\\\\site-packages', 'c:\\\\Users\\\\Biomech\\\\AppData\\\\Local\\\\Programs\\\\Python\\\\Python38\\\\lib\\\\site-packages\\\\win32', 'c:\\\\Users\\\\Biomech\\\\AppData\\\\Local\\\\Programs\\\\Python\\\\Python38\\\\lib\\\\site-packages\\\\win32\\\\lib', 'c:\\\\Users\\\\Biomech\\\\AppData\\\\Local\\\\Programs\\\\Python\\\\Python38\\\\lib\\\\site-packages\\\\Pythonwin', 'C:\\\\Users\\\\Biomech\\\\AppData\\\\Local\\\\Programs\\\\Python\\\\Python38\\\\Lib\\\\site-packages\\\\btk', 'C:\\\\Users\\\\Biomech\\\\AppData\\\\Local\\\\Programs\\\\Python\\\\Python38\\\\Lib\\\\site-packages\\\\btk', 'C:\\\\Git\\\\Python_projects\\\\MskModelling\\\\BTKPython-master']\n"
     ]
    }
   ],
   "source": [
    "from opensim import C3DFileAdapter\n",
    "import opensim as osim\n",
    "import numpy as np\n",
    "import os\n",
    "from MskModelling import bops\n",
    "import pandas as pd\n",
    "import numpy as np\n",
    "import pyc3dserver as c3d\n",
    "import sys\n",
    "sys.path.append(r'C:\\Users\\Biomech\\AppData\\Local\\Programs\\Python\\Python38\\Lib\\site-packages\\btk')\n",
    "sys.path.append(r'C:\\Git\\Python_projects\\MskModelling\\BTKPython-master')\n",
    "print(sys.path)\n"
   ]
  },
  {
   "cell_type": "code",
   "execution_count": 29,
   "metadata": {},
   "outputs": [
    {
     "name": "stdout",
     "output_type": "stream",
     "text": [
      "['c:\\\\Git\\\\Python_projects', 'C:\\\\OpenSim 4.4\\\\sdk\\\\Python', 'c:\\\\Users\\\\Biomech\\\\AppData\\\\Local\\\\Programs\\\\Python\\\\Python38\\\\python38.zip', 'c:\\\\Users\\\\Biomech\\\\AppData\\\\Local\\\\Programs\\\\Python\\\\Python38\\\\DLLs', 'c:\\\\Users\\\\Biomech\\\\AppData\\\\Local\\\\Programs\\\\Python\\\\Python38\\\\lib', 'c:\\\\Users\\\\Biomech\\\\AppData\\\\Local\\\\Programs\\\\Python\\\\Python38', '', 'c:\\\\Users\\\\Biomech\\\\AppData\\\\Local\\\\Programs\\\\Python\\\\Python38\\\\lib\\\\site-packages', 'c:\\\\Users\\\\Biomech\\\\AppData\\\\Local\\\\Programs\\\\Python\\\\Python38\\\\lib\\\\site-packages\\\\win32', 'c:\\\\Users\\\\Biomech\\\\AppData\\\\Local\\\\Programs\\\\Python\\\\Python38\\\\lib\\\\site-packages\\\\win32\\\\lib', 'c:\\\\Users\\\\Biomech\\\\AppData\\\\Local\\\\Programs\\\\Python\\\\Python38\\\\lib\\\\site-packages\\\\Pythonwin', 'C:\\\\Users\\\\Biomech\\\\AppData\\\\Local\\\\Programs\\\\Python\\\\Python38\\\\Lib\\\\site-packages\\\\btk', 'C:\\\\Git\\\\Python_projects\\\\MskModelling\\\\BTKPython-master']\n"
     ]
    }
   ],
   "source": [
    "try:    \n",
    "    sys.path.remove(r'C:\\Users\\Biomech\\AppData\\Local\\Programs\\Python\\Python38\\Lib\\site-packages\\btk')\n",
    "    print(sys.path)\n",
    "except: print('btk not in the path anymore')\n",
    "\n"
   ]
  },
  {
   "cell_type": "code",
   "execution_count": 3,
   "metadata": {},
   "outputs": [
    {
     "name": "stdout",
     "output_type": "stream",
     "text": [
      "=============================================\n",
      "Evaluation C3Dserver\n",
      "Version:  1.203\n",
      "User:  Demonstration Copy\n",
      "Organization:  Motion Lab Systems, Inc.\n",
      "=============================================\n"
     ]
    }
   ],
   "source": [
    "maindir = r'Z:\\EMG_realtime_biofeedback\\InputData\\s001\\2023-01-12'\n",
    "c3dfilepath = os.path.join(maindir, r'sprint01.c3d')\n",
    "emg_labels = ['Voltage.EMG01_r_gastro', 'Voltage.EMG02_r_soleus',\n",
    " 'Voltage.EMG03_r_rect_fem', 'Voltage.EMG04_r_tfl',\n",
    " 'Voltage.EMG05_r_semimemb', 'Voltage.EMG06_l_gastro',\n",
    " 'Voltage.EMG07_l_soleus', 'Voltage.EMG08_l_rect_fem', 'Voltage.EMG09_l_tfl',\n",
    " 'Voltage.EMG10_l_semimemb']\n",
    "\n",
    "\n",
    "# import c3d file data to a table\n",
    "adapter = osim.C3DFileAdapter()\n",
    "\n",
    "# Get the COM object of C3Dserver\n",
    "itf = c3d.c3dserver()\n",
    "# Open a C3D file\n",
    "ret = c3d.open_c3d(itf, c3dfilepath)\n",
    "\n",
    "# For the information of all analogs(excluding or including forces/moments)\n",
    "dict_analogs = c3d.get_dict_analogs(itf)\n",
    "labels = dict_analogs['LABELS']\n",
    "\n",
    "# Initialize the final dataframe\n",
    "analog_df = pd.DataFrame()\n",
    "\n",
    "# Store each of the vectors in dict_analogs as a columns in the final dataframe\n",
    "for iLab in labels:\n",
    "    if iLab in emg_labels:\n",
    "        iData = dict_analogs['DATA'][iLab]\n",
    "        analog_df[iLab] = iData.tolist()\n",
    "\n",
    "# Sava data in parent directory\n",
    "maindir = os.path.dirname(c3dfilepath)\n",
    "emg_filename = os.path.join(maindir, r'emg.mot')\n",
    "\n"
   ]
  },
  {
   "cell_type": "code",
   "execution_count": null,
   "metadata": {},
   "outputs": [],
   "source": [
    "analog_df.to_excel(emg_filename)"
   ]
  },
  {
   "cell_type": "code",
   "execution_count": 11,
   "metadata": {},
   "outputs": [
    {
     "ename": "RuntimeError",
     "evalue": "std::exception in 'OpenSim::MocoSolution OpenSim::MocoStudy::solve() const': casVector should be 1-dimensional, but has size 0 x 0.\n\tThrown at MocoCasOCProblem.h:108 in convertToSimTKVector().",
     "output_type": "error",
     "traceback": [
      "\u001b[1;31m---------------------------------------------------------------------------\u001b[0m",
      "\u001b[1;31mRuntimeError\u001b[0m                              Traceback (most recent call last)",
      "Cell \u001b[1;32mIn[11], line 2\u001b[0m\n\u001b[0;32m      1\u001b[0m study \u001b[39m=\u001b[39m osim\u001b[39m.\u001b[39mMocoStudy()\n\u001b[1;32m----> 2\u001b[0m solution \u001b[39m=\u001b[39m study\u001b[39m.\u001b[39;49msolve()\n\u001b[0;32m      3\u001b[0m osim\u001b[39m.\u001b[39mSTOFileAdapter\u001b[39m.\u001b[39mwrite(solution,emg_filename)\n",
      "File \u001b[1;32mc:\\Users\\Biomech\\AppData\\Local\\Programs\\Python\\Python38\\lib\\site-packages\\opensim\\moco.py:7781\u001b[0m, in \u001b[0;36mMocoStudy.solve\u001b[1;34m(self)\u001b[0m\n\u001b[0;32m   7765\u001b[0m \u001b[39mdef\u001b[39;00m \u001b[39msolve\u001b[39m(\u001b[39mself\u001b[39m) \u001b[39m-\u001b[39m\u001b[39m>\u001b[39m \u001b[39m\"\u001b[39m\u001b[39mOpenSim::MocoSolution\u001b[39m\u001b[39m\"\u001b[39m:\n\u001b[0;32m   7766\u001b[0m \u001b[39m    \u001b[39m\u001b[39mr\u001b[39m\u001b[39m\"\"\"\u001b[39;00m\n\u001b[0;32m   7767\u001b[0m \u001b[39m    Solve the provided MocoProblem using the provided MocoSolver, and obtain\u001b[39;00m\n\u001b[0;32m   7768\u001b[0m \u001b[39m    the solution to the problem. If the write_solution property is true,\u001b[39;00m\n\u001b[1;32m   (...)\u001b[0m\n\u001b[0;32m   7779\u001b[0m \u001b[39m    until you acknowledge the failure by invoking MocoSolution::unseal().\u001b[39;00m\n\u001b[0;32m   7780\u001b[0m \u001b[39m    \"\"\"\u001b[39;00m\n\u001b[1;32m-> 7781\u001b[0m     \u001b[39mreturn\u001b[39;00m _moco\u001b[39m.\u001b[39;49mMocoStudy_solve(\u001b[39mself\u001b[39;49m)\n",
      "\u001b[1;31mRuntimeError\u001b[0m: std::exception in 'OpenSim::MocoSolution OpenSim::MocoStudy::solve() const': casVector should be 1-dimensional, but has size 0 x 0.\n\tThrown at MocoCasOCProblem.h:108 in convertToSimTKVector()."
     ]
    }
   ],
   "source": [
    "study = osim.MocoStudy()\n",
    "study.setName('example2DWalking_StepTimeAsymmetry')\n",
    "solution = study.solve()\n",
    "osim.STOFileAdapter.write(solution,emg_filename)"
   ]
  }
 ],
 "metadata": {
  "kernelspec": {
   "display_name": "Python 3",
   "language": "python",
   "name": "python3"
  },
  "language_info": {
   "codemirror_mode": {
    "name": "ipython",
    "version": 3
   },
   "file_extension": ".py",
   "mimetype": "text/x-python",
   "name": "python",
   "nbconvert_exporter": "python",
   "pygments_lexer": "ipython3",
   "version": "3.8.0"
  },
  "orig_nbformat": 4,
  "vscode": {
   "interpreter": {
    "hash": "6d644aacad239065b370893fefb29285686498ecbbc8cafad5ff61f44754b4d2"
   }
  }
 },
 "nbformat": 4,
 "nbformat_minor": 2
}
