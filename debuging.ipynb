{
 "cells": [
  {
   "cell_type": "code",
   "execution_count": 28,
   "metadata": {},
   "outputs": [
    {
     "name": "stdout",
     "output_type": "stream",
     "text": [
      "['c:\\\\Git\\\\Python_projects', 'C:\\\\OpenSim 4.4\\\\sdk\\\\Python', 'c:\\\\Users\\\\Biomech\\\\AppData\\\\Local\\\\Programs\\\\Python\\\\Python38\\\\python38.zip', 'c:\\\\Users\\\\Biomech\\\\AppData\\\\Local\\\\Programs\\\\Python\\\\Python38\\\\DLLs', 'c:\\\\Users\\\\Biomech\\\\AppData\\\\Local\\\\Programs\\\\Python\\\\Python38\\\\lib', 'c:\\\\Users\\\\Biomech\\\\AppData\\\\Local\\\\Programs\\\\Python\\\\Python38', '', 'c:\\\\Users\\\\Biomech\\\\AppData\\\\Local\\\\Programs\\\\Python\\\\Python38\\\\lib\\\\site-packages', 'c:\\\\Users\\\\Biomech\\\\AppData\\\\Local\\\\Programs\\\\Python\\\\Python38\\\\lib\\\\site-packages\\\\win32', 'c:\\\\Users\\\\Biomech\\\\AppData\\\\Local\\\\Programs\\\\Python\\\\Python38\\\\lib\\\\site-packages\\\\win32\\\\lib', 'c:\\\\Users\\\\Biomech\\\\AppData\\\\Local\\\\Programs\\\\Python\\\\Python38\\\\lib\\\\site-packages\\\\Pythonwin', 'C:\\\\Users\\\\Biomech\\\\AppData\\\\Local\\\\Programs\\\\Python\\\\Python38\\\\Lib\\\\site-packages\\\\btk', 'C:\\\\Users\\\\Biomech\\\\AppData\\\\Local\\\\Programs\\\\Python\\\\Python38\\\\Lib\\\\site-packages\\\\btk', 'C:\\\\Git\\\\Python_projects\\\\MskModelling\\\\BTKPython-master']\n"
     ]
    }
   ],
   "source": [
    "from opensim import C3DFileAdapter\n",
    "import opensim as osim\n",
    "import numpy as np\n",
    "import os\n",
    "from MskModelling import bops\n",
    "import pandas as pd\n",
    "import numpy as np\n",
    "import pyc3dserver as c3d\n",
    "import sys\n",
    "sys.path.append(r'C:\\Users\\Biomech\\AppData\\Local\\Programs\\Python\\Python38\\Lib\\site-packages\\btk')\n",
    "sys.path.append(r'C:\\Git\\Python_projects\\MskModelling\\BTKPython-master')\n",
    "print(sys.path)\n"
   ]
  },
  {
   "cell_type": "code",
   "execution_count": 29,
   "metadata": {},
   "outputs": [
    {
     "name": "stdout",
     "output_type": "stream",
     "text": [
      "['c:\\\\Git\\\\Python_projects', 'C:\\\\OpenSim 4.4\\\\sdk\\\\Python', 'c:\\\\Users\\\\Biomech\\\\AppData\\\\Local\\\\Programs\\\\Python\\\\Python38\\\\python38.zip', 'c:\\\\Users\\\\Biomech\\\\AppData\\\\Local\\\\Programs\\\\Python\\\\Python38\\\\DLLs', 'c:\\\\Users\\\\Biomech\\\\AppData\\\\Local\\\\Programs\\\\Python\\\\Python38\\\\lib', 'c:\\\\Users\\\\Biomech\\\\AppData\\\\Local\\\\Programs\\\\Python\\\\Python38', '', 'c:\\\\Users\\\\Biomech\\\\AppData\\\\Local\\\\Programs\\\\Python\\\\Python38\\\\lib\\\\site-packages', 'c:\\\\Users\\\\Biomech\\\\AppData\\\\Local\\\\Programs\\\\Python\\\\Python38\\\\lib\\\\site-packages\\\\win32', 'c:\\\\Users\\\\Biomech\\\\AppData\\\\Local\\\\Programs\\\\Python\\\\Python38\\\\lib\\\\site-packages\\\\win32\\\\lib', 'c:\\\\Users\\\\Biomech\\\\AppData\\\\Local\\\\Programs\\\\Python\\\\Python38\\\\lib\\\\site-packages\\\\Pythonwin', 'C:\\\\Users\\\\Biomech\\\\AppData\\\\Local\\\\Programs\\\\Python\\\\Python38\\\\Lib\\\\site-packages\\\\btk', 'C:\\\\Git\\\\Python_projects\\\\MskModelling\\\\BTKPython-master']\n"
     ]
    }
   ],
   "source": [
    "try:    \n",
    "    sys.path.remove(r'C:\\Users\\Biomech\\AppData\\Local\\Programs\\Python\\Python38\\Lib\\site-packages\\btk')\n",
    "    print(sys.path)\n",
    "except: print('btk not in the path anymore')\n",
    "\n"
   ]
  },
  {
   "cell_type": "code",
   "execution_count": 13,
   "metadata": {},
   "outputs": [
    {
     "ename": "",
     "evalue": "",
     "output_type": "error",
     "traceback": [
      "\u001b[1;31mThe Kernel crashed while executing code in the the current cell or a previous cell. Please review the code in the cell(s) to identify a possible cause of the failure. Click <a href='https://aka.ms/vscodeJupyterKernelCrash'>here</a> for more info. View Jupyter <a href='command:jupyter.viewOutput'>log</a> for further details."
     ]
    }
   ],
   "source": [
    "import pip\n",
    "from IPython.display import clear_output\n",
    "\n",
    "pip.main(['list'])\n",
    "clear_output(wait=False)\n",
    "\n",
    "\n",
    "            "
   ]
  },
  {
   "cell_type": "code",
   "execution_count": null,
   "metadata": {},
   "outputs": [],
   "source": [
    "import sys\n",
    "sys.path.append(r\"C:\\Users\\Bas\\AppData\\Local\\Programs\\Python\\Python311\\Lib\\site-packages\\btk\\_btk.pyd\")\n",
    "import btk"
   ]
  },
  {
   "cell_type": "code",
   "execution_count": 1,
   "metadata": {},
   "outputs": [
    {
     "name": "stdout",
     "output_type": "stream",
     "text": [
      "opensim package not well installed\n"
     ]
    }
   ],
   "source": [
    "try:\n",
    "    import opensim as osim\n",
    "except: \n",
    "    print(\"opensim package not well installed\")\n",
    "    "
   ]
  }
 ],
 "metadata": {
  "kernelspec": {
   "display_name": "Python 3",
   "language": "python",
   "name": "python3"
  },
  "language_info": {
   "codemirror_mode": {
    "name": "ipython",
    "version": 3
   },
   "file_extension": ".py",
   "mimetype": "text/x-python",
   "name": "python",
   "nbconvert_exporter": "python",
   "pygments_lexer": "ipython3",
   "version": "3.11.2"
  },
  "orig_nbformat": 4,
  "vscode": {
   "interpreter": {
    "hash": "a0880c9aeea943d49073ca3ad92787ffc0515b25b606f448913ba1d604cda94e"
   }
  }
 },
 "nbformat": 4,
 "nbformat_minor": 2
}
