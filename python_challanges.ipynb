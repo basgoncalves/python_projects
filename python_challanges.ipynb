{
 "cells": [
  {
   "cell_type": "markdown",
   "metadata": {},
   "source": [
    "# Python challenges\n",
    "https://pythonprinciples.com/challenges/Middle-letter/"
   ]
  },
  {
   "cell_type": "code",
   "execution_count": null,
   "metadata": {},
   "outputs": [],
   "source": [
    "# Capital indexes\n",
    "def capital_indexes(Str):\n",
    "        Isupper = []\n",
    "        for i in range(0,len(Str)):\n",
    "            if Str[i].isupper():\n",
    "                Isupper.append(i)\n",
    "            \n",
    "        return Isupper\n",
    "        \n",
    "capital_indexes('HeLlO')"
   ]
  },
  {
   "cell_type": "code",
   "execution_count": null,
   "metadata": {},
   "outputs": [],
   "source": [
    "# Middle letter\n",
    "def mid(Str):\n",
    "    half_length = len(Str)/2\n",
    "    if  half_length == 0.5 or half_length == 0:\n",
    "        mid_letter = Str\n",
    "\n",
    "    elif 2 % half_length != 0:\n",
    "        letter_index = int(half_length - 0.5)\n",
    "        mid_letter = Str[letter_index]\n",
    "        \n",
    "    else:\n",
    "        mid_letter = ''\n",
    "    return mid_letter\n",
    "\n",
    "\n",
    "print(mid(''))\n",
    "print(mid('a'))\n",
    "print(mid('abc'))\n",
    "print(mid('aaaa'))\n",
    "\n",
    "\n",
    "# # this approach uses // which is integer division in Python 3\n",
    "# # alternatively, use / and int() in combination.\n",
    "# def mid(string):\n",
    "#     if len(string) % 2 == 0:\n",
    "#         return ''\n",
    "#     return string[len(string)//2]       # // rounds down    \n",
    "#     # retunr string[-len(string)//2]      # to round up\n",
    "\n",
    "\n"
   ]
  },
  {
   "cell_type": "code",
   "execution_count": null,
   "metadata": {},
   "outputs": [],
   "source": [
    "# Online status\n",
    "def online_count(statuses):\n",
    "    count = 0\n",
    "    for isonline in statuses.values():\n",
    "        if isonline == 'online':\n",
    "            count += 1\n",
    "    return count\n",
    "\n",
    "# # short version\n",
    "# def online_count(people):\n",
    "#     return len([p for p in people if people[p] == 'online'])\n",
    "\n",
    "statuses = {\n",
    "    'Alice': 'online',\n",
    "    'Bob': 'offline',\n",
    "    'Eve': 'online',\n",
    "}\n",
    "online_count(statuses)"
   ]
  },
  {
   "cell_type": "code",
   "execution_count": null,
   "metadata": {},
   "outputs": [],
   "source": [
    "# Randomness\n",
    "from random import randint\n",
    "\n",
    "def random_number():\n",
    "    return randint(1,100)\n",
    "\n",
    "random_number()"
   ]
  },
  {
   "cell_type": "code",
   "execution_count": null,
   "metadata": {},
   "outputs": [],
   "source": [
    "#type check\n",
    "def only_ints(input1,input2):\n",
    "    return type(input1) == int and type(input2) == int\n",
    "only_ints(1,'a')"
   ]
  },
  {
   "cell_type": "code",
   "execution_count": null,
   "metadata": {},
   "outputs": [],
   "source": [
    "# Double letters\n",
    "def double_letters(Str):\n",
    "    previous_letter = ''\n",
    "    for current_letter in Str:\n",
    "        if current_letter == previous_letter:\n",
    "            return True\n",
    "        else:\n",
    "            previous_letter = current_letter\n",
    "\n",
    "    return False\n",
    "\n",
    "\n",
    "def double_letters(string):\n",
    "    return any([a == b for a, b in zip(string, string[1:])])\n",
    "\n",
    "string = 'Helol'\n",
    "double_letters(string)\n",
    "\n",
    "x = list(zip(string, string[2:]))  # to understand what zip does\n",
    "print(x)\n",
    "\n"
   ]
  },
  {
   "cell_type": "code",
   "execution_count": null,
   "metadata": {},
   "outputs": [],
   "source": [
    "# Thousands separator\t7 / 10\n",
    "def format_number(N):\n",
    "\n",
    "    N_str = str(round(N))[::-1]\n",
    "    n = 3\n",
    "    sub_string = ','.join([N_str[i:i+n] for i in range(0, len(N_str), n)])[::-1]\n",
    "\n",
    "    return sub_string\n",
    "\n",
    "# built-in solution\n",
    "def format_number(n):\n",
    "    return '{:,}'.format(n)\n",
    "    'basilio {:,.1000f}'.format(90000.000010) # example of format function\n",
    "\n",
    "format_number(10000)"
   ]
  },
  {
   "cell_type": "code",
   "execution_count": null,
   "metadata": {},
   "outputs": [],
   "source": [
    "# Counting parameters\n",
    "def param_count(*argv):\n",
    "    return len(argv)\n",
    "\n",
    "param_count(1,2,3)  "
   ]
  },
  {
   "cell_type": "code",
   "execution_count": null,
   "metadata": {},
   "outputs": [],
   "source": [
    "# List xor\n",
    "def list_xor(n,list1,list2):\n",
    "    if list1.count(n) and list2.count(n):\n",
    "        return False\n",
    "    elif list1.count(n)==0 and list2.count(n)==0:\n",
    "        return False\n",
    "    else:\n",
    "        return True\n",
    "\n",
    "\n",
    "def list_xor(n, list1, list2):\n",
    "    return (n in list1) ^ (n in list2)\n",
    "\n",
    "list_xor(1, [1, 2, 3], [4, 5, 6])"
   ]
  },
  {
   "cell_type": "code",
   "execution_count": null,
   "metadata": {},
   "outputs": [],
   "source": [
    "# create gantt chart - https://towardsdatascience.com/gantt-charts-with-pythons-matplotlib-395b7af72d72\n",
    "\n",
    "def install_dependencies():\n",
    "    import subprocess\n",
    "    import sys\n",
    "    import pkg_resources\n",
    "\n",
    "    Packages = ['numpy','pandas','matplotlib','jupyter','openpyxl']\n",
    "    installed_packages = pkg_resources.working_set\n",
    "    installed_packages_list = sorted(['%s==%s' % (i.key, i.version) for i in installed_packages])\n",
    "    for pkg in Packages:\n",
    "        if any(pkg in s for s in installed_packages_list):\n",
    "            print(pkg + ' already installed')\n",
    "        else:\n",
    "            subprocess.check_call([sys.executable, '-m', 'pip', 'install', pkg])\n",
    "\n",
    "import pandas as pd\n",
    "import matplotlib.pyplot as plt\n",
    "import numpy as np\n",
    "import os\n",
    "\n",
    "install_dependencies()\n",
    "current_script_path = os.getcwd()\n",
    "df = pd.read_excel(current_script_path + '\\\\plan.xlsx')\n",
    "\n",
    "# project start date\n",
    "proj_start = df.Start.min()\n",
    "# number of days from project start to task start\n",
    "df['start_num'] = (df.Start-proj_start).dt.days\n",
    "# number of days from project start to end of tasks\n",
    "df['end_num'] = (df.End-proj_start).dt.days\n",
    "# days between start and end of each task\n",
    "df['days_start_to_end'] = df.end_num - df.start_num\n",
    "\n",
    "# show figure\n",
    "fig, ax = plt.subplots(1, figsize=(16,6))\n",
    "ax.barh(df.Task, df.days_start_to_end, left=df.start_num)\n",
    "plt.show()\n"
   ]
  },
  {
   "cell_type": "code",
   "execution_count": null,
   "metadata": {},
   "outputs": [],
   "source": [
    "\n",
    "# # create a column with the color for each department\n",
    "# def color(row):\n",
    "#     c_dict = {'Admin':'#E64646', 'Data collection':'#E69646', 'Data analysis':'#34D05C'}\n",
    "#     return c_dict[row['Department']]\n",
    "# df['color'] = df.apply(color, axis=1)\n",
    "\n",
    "\n",
    "\n",
    "\n",
    "\n"
   ]
  },
  {
   "cell_type": "code",
   "execution_count": null,
   "metadata": {},
   "outputs": [],
   "source": [
    "from matplotlib.patches import Patch\n",
    "fig, ax = plt.subplots(1, figsize=(16,6))\n",
    "ax.barh(df.Task, df.days_start_to_end, left=df.start_num, color=df.color)\n",
    "##### LEGENDS #####\n",
    "c_dict = {'Admin':'#E64646', 'Data collection':'#E69646', 'Data analysis':'#34D05C'}\n",
    "legend_elements = [Patch(facecolor=c_dict[i], label=i)  for i in c_dict]\n",
    "plt.legend(handles=legend_elements)\n",
    "##### TICKS #####\n",
    "xticks = np.arange(0, df.end_num.max()+1, 3)\n",
    "xticks_labels = pd.date_range(proj_start, end=df.End.max()).strftime(\"%m/%d\")\n",
    "xticks_minor = np.arange(0, df.end_num.max()+1, 1)\n",
    "ax.set_xticks(xticks)\n",
    "ax.set_xticks(xticks_minor, minor=True)\n",
    "ax.set_xticklabels(xticks_labels[::3])\n",
    "plt.show()"
   ]
  },
  {
   "cell_type": "code",
   "execution_count": 21,
   "metadata": {},
   "outputs": [
    {
     "ename": "NameError",
     "evalue": "name 'interval' is not defined",
     "output_type": "error",
     "traceback": [
      "\u001b[1;31m---------------------------------------------------------------------------\u001b[0m",
      "\u001b[1;31mNameError\u001b[0m                                 Traceback (most recent call last)",
      "Cell \u001b[1;32mIn [21], line 2\u001b[0m\n\u001b[0;32m      1\u001b[0m a \u001b[39m=\u001b[39m [\u001b[39m1\u001b[39m,\u001b[39m2\u001b[39m,\u001b[39m3\u001b[39m,\u001b[39m4\u001b[39m,\u001b[39m5\u001b[39m,\u001b[39m6\u001b[39m,\u001b[39m7\u001b[39m,\u001b[39m8\u001b[39m,\u001b[39m9\u001b[39m]\n\u001b[1;32m----> 2\u001b[0m a_int \u001b[39m=\u001b[39m interval(a,\u001b[39m2\u001b[39m)\n",
      "\u001b[1;31mNameError\u001b[0m: name 'interval' is not defined"
     ]
    }
   ],
   "source": [
    "a = [1,2,3,4,5,6,7,8,9]\n",
    "a_int = intreval(a,2)"
   ]
  }
 ],
 "metadata": {
  "kernelspec": {
   "display_name": "Python 3.10.8 ('data_science_env': venv)",
   "language": "python",
   "name": "python3"
  },
  "language_info": {
   "codemirror_mode": {
    "name": "ipython",
    "version": 3
   },
   "file_extension": ".py",
   "mimetype": "text/x-python",
   "name": "python",
   "nbconvert_exporter": "python",
   "pygments_lexer": "ipython3",
   "version": "3.10.8"
  },
  "orig_nbformat": 4,
  "vscode": {
   "interpreter": {
    "hash": "a2da2187c5f939d6bace25c3f016fea9570cfbfe6b2b9be895f82fc64b320192"
   }
  }
 },
 "nbformat": 4,
 "nbformat_minor": 2
}
