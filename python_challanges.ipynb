{
 "cells": [
  {
   "cell_type": "markdown",
   "metadata": {},
   "source": [
    "# Python challenges\n",
    "https://pythonprinciples.com/challenges/Middle-letter/"
   ]
  },
  {
   "cell_type": "code",
   "execution_count": null,
   "metadata": {},
   "outputs": [],
   "source": [
    "# Capital indexes\n",
    "def capital_indexes(Str):\n",
    "        Isupper = []\n",
    "        for i in range(0,len(Str)):\n",
    "            if Str[i].isupper():\n",
    "                Isupper.append(i)\n",
    "            \n",
    "        return Isupper\n",
    "        \n",
    "capital_indexes('HeLlO')"
   ]
  },
  {
   "cell_type": "code",
   "execution_count": null,
   "metadata": {},
   "outputs": [],
   "source": [
    "# Middle letter\n",
    "def mid(Str):\n",
    "    half_length = len(Str)/2\n",
    "    if  half_length == 0.5 or half_length == 0:\n",
    "        mid_letter = Str\n",
    "\n",
    "    elif 2 % half_length != 0:\n",
    "        letter_index = int(half_length - 0.5)\n",
    "        mid_letter = Str[letter_index]\n",
    "        \n",
    "    else:\n",
    "        mid_letter = \"\"\n",
    "    return mid_letter\n",
    "\n",
    "\n",
    "print(mid(\"\"))\n",
    "print(mid(\"a\"))\n",
    "print(mid(\"abc\"))\n",
    "print(mid(\"aaaa\"))\n",
    "\n",
    "\n",
    "# # this approach uses // which is integer division in Python 3\n",
    "# # alternatively, use / and int() in combination.\n",
    "# def mid(string):\n",
    "#     if len(string) % 2 == 0:\n",
    "#         return \"\"\n",
    "#     return string[len(string)//2]       # // rounds down    \n",
    "#     # retunr string[-len(string)//2]      # to round up\n",
    "\n",
    "\n"
   ]
  },
  {
   "cell_type": "code",
   "execution_count": 20,
   "metadata": {},
   "outputs": [
    {
     "data": {
      "text/plain": [
       "2"
      ]
     },
     "execution_count": 20,
     "metadata": {},
     "output_type": "execute_result"
    }
   ],
   "source": [
    "# Online status\n",
    "def online_count(statuses):\n",
    "    count = 0\n",
    "    for isonline in statuses.values():\n",
    "        if isonline == 'online':\n",
    "            count += 1\n",
    "    return count\n",
    "\n",
    "# # short version\n",
    "# def online_count(people):\n",
    "#     return len([p for p in people if people[p] == \"online\"])\n",
    "\n",
    "statuses = {\n",
    "    \"Alice\": \"online\",\n",
    "    \"Bob\": \"offline\",\n",
    "    \"Eve\": \"online\",\n",
    "}\n",
    "online_count(statuses)"
   ]
  },
  {
   "cell_type": "code",
   "execution_count": 35,
   "metadata": {},
   "outputs": [
    {
     "data": {
      "text/plain": [
       "96"
      ]
     },
     "execution_count": 35,
     "metadata": {},
     "output_type": "execute_result"
    }
   ],
   "source": [
    "# Randomness\n",
    "from random import randint\n",
    "\n",
    "def random_number():\n",
    "    return randint(1,100)\n",
    "\n",
    "random_number()"
   ]
  },
  {
   "cell_type": "code",
   "execution_count": 42,
   "metadata": {},
   "outputs": [
    {
     "data": {
      "text/plain": [
       "False"
      ]
     },
     "execution_count": 42,
     "metadata": {},
     "output_type": "execute_result"
    }
   ],
   "source": [
    "#type check\n",
    "def only_ints(input1,input2):\n",
    "    return type(input1) == int and type(input2) == int\n",
    "only_ints(1,'a')"
   ]
  },
  {
   "cell_type": "code",
   "execution_count": 58,
   "metadata": {},
   "outputs": [
    {
     "data": {
      "text/plain": [
       "False"
      ]
     },
     "execution_count": 58,
     "metadata": {},
     "output_type": "execute_result"
    }
   ],
   "source": [
    "# Double letters\n",
    "def double_letters(Str):\n",
    "    previous_letter = ''\n",
    "    for current_letter in Str:\n",
    "        if current_letter == previous_letter:\n",
    "            return True\n",
    "        else:\n",
    "            previous_letter = current_letter\n",
    "\n",
    "    return False\n",
    "\n",
    "\n",
    "def double_letters(string):\n",
    "    return any([a == b for a, b in zip(string, string[1:])])\n",
    "\n",
    "string = 'Helol'\n",
    "double_letters(string)\n",
    "\n",
    "x = list(zip(string, string[2:]))  # to understand what zip does\n",
    "print(x)\n",
    "\n"
   ]
  },
  {
   "cell_type": "code",
   "execution_count": 26,
   "metadata": {},
   "outputs": [
    {
     "data": {
      "text/plain": [
       "'-2'"
      ]
     },
     "execution_count": 26,
     "metadata": {},
     "output_type": "execute_result"
    }
   ],
   "source": [
    "# Thousands separator\t7 / 10\n",
    "def format_number(N):\n",
    "\n",
    "    N_str = str(round(N))[::-1]\n",
    "    n = 3\n",
    "    sub_string = ','.join([N_str[i:i+n] for i in range(0, len(N_str), n)])[::-1]\n",
    "\n",
    "    return sub_string\n",
    "\n",
    "# built-in solution\n",
    "def format_number(n):\n",
    "    return \"{:,}\".format(n)\n",
    "    'basilio {:,.1000f}'.format(90000.000010) # example of format function\n",
    "\n",
    "format_number(10000)"
   ]
  },
  {
   "cell_type": "code",
   "execution_count": 5,
   "metadata": {},
   "outputs": [
    {
     "data": {
      "text/plain": [
       "3"
      ]
     },
     "execution_count": 5,
     "metadata": {},
     "output_type": "execute_result"
    }
   ],
   "source": [
    "# Counting parameters\n",
    "def param_count(*argv):\n",
    "    return len(argv)\n",
    "\n",
    "param_count(1,2,3)  "
   ]
  },
  {
   "cell_type": "code",
   "execution_count": 14,
   "metadata": {},
   "outputs": [
    {
     "data": {
      "text/plain": [
       "True"
      ]
     },
     "execution_count": 14,
     "metadata": {},
     "output_type": "execute_result"
    }
   ],
   "source": [
    "# List xor\n",
    "def list_xor(n,list1,list2):\n",
    "    if list1.count(n) and list2.count(n):\n",
    "        return False\n",
    "    elif list1.count(n)==0 and list2.count(n)==0:\n",
    "        return False\n",
    "    else:\n",
    "        return True\n",
    "\n",
    "\n",
    "def list_xor(n, list1, list2):\n",
    "    return (n in list1) ^ (n in list2)\n",
    "\n",
    "list_xor(1, [1, 2, 3], [4, 5, 6])"
   ]
  },
  {
   "cell_type": "code",
   "execution_count": 11,
   "metadata": {},
   "outputs": [
    {
     "data": {
      "text/plain": [
       "0"
      ]
     },
     "execution_count": 11,
     "metadata": {},
     "output_type": "execute_result"
    }
   ],
   "source": []
  }
 ],
 "metadata": {
  "kernelspec": {
   "display_name": "Python 3.8.10 64-bit (windows store)",
   "language": "python",
   "name": "python3"
  },
  "language_info": {
   "codemirror_mode": {
    "name": "ipython",
    "version": 3
   },
   "file_extension": ".py",
   "mimetype": "text/x-python",
   "name": "python",
   "nbconvert_exporter": "python",
   "pygments_lexer": "ipython3",
   "version": "3.8.10"
  },
  "orig_nbformat": 4,
  "vscode": {
   "interpreter": {
    "hash": "ccaf4f2b870b44d404ebc97758e8555864a76105cb721a293c812313f4b24d8e"
   }
  }
 },
 "nbformat": 4,
 "nbformat_minor": 2
}
