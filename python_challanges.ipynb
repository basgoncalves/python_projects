{
 "cells": [
  {
   "cell_type": "markdown",
   "metadata": {},
   "source": [
    "# Python challenges\n",
    "https://pythonprinciples.com/challenges/Middle-letter/"
   ]
  },
  {
   "cell_type": "code",
   "execution_count": null,
   "metadata": {},
   "outputs": [],
   "source": [
    "# Capital indexes\n",
    "def capital_indexes(Str):\n",
    "        Isupper = []\n",
    "        for i in range(0,len(Str)):\n",
    "            if Str[i].isupper():\n",
    "                Isupper.append(i)\n",
    "            \n",
    "        return Isupper\n",
    "        \n",
    "capital_indexes('HeLlO')"
   ]
  },
  {
   "cell_type": "code",
   "execution_count": null,
   "metadata": {},
   "outputs": [],
   "source": [
    "# Middle letter\n",
    "def mid(Str):\n",
    "    half_length = len(Str)/2\n",
    "    if  half_length == 0.5 or half_length == 0:\n",
    "        mid_letter = Str\n",
    "\n",
    "    elif 2 % half_length != 0:\n",
    "        letter_index = int(half_length - 0.5)\n",
    "        mid_letter = Str[letter_index]\n",
    "        \n",
    "    else:\n",
    "        mid_letter = ''\n",
    "    return mid_letter\n",
    "\n",
    "\n",
    "print(mid(''))\n",
    "print(mid('a'))\n",
    "print(mid('abc'))\n",
    "print(mid('aaaa'))\n",
    "\n",
    "\n",
    "# # this approach uses // which is integer division in Python 3\n",
    "# # alternatively, use / and int() in combination.\n",
    "# def mid(string):\n",
    "#     if len(string) % 2 == 0:\n",
    "#         return ''\n",
    "#     return string[len(string)//2]       # // rounds down    \n",
    "#     # retunr string[-len(string)//2]      # to round up\n",
    "\n",
    "\n"
   ]
  },
  {
   "cell_type": "code",
   "execution_count": 20,
   "metadata": {},
   "outputs": [
    {
     "data": {
      "text/plain": [
       "2"
      ]
     },
     "execution_count": 20,
     "metadata": {},
     "output_type": "execute_result"
    }
   ],
   "source": [
    "# Online status\n",
    "def online_count(statuses):\n",
    "    count = 0\n",
    "    for isonline in statuses.values():\n",
    "        if isonline == 'online':\n",
    "            count += 1\n",
    "    return count\n",
    "\n",
    "# # short version\n",
    "# def online_count(people):\n",
    "#     return len([p for p in people if people[p] == 'online'])\n",
    "\n",
    "statuses = {\n",
    "    'Alice': 'online',\n",
    "    'Bob': 'offline',\n",
    "    'Eve': 'online',\n",
    "}\n",
    "online_count(statuses)"
   ]
  },
  {
   "cell_type": "code",
   "execution_count": 35,
   "metadata": {},
   "outputs": [
    {
     "data": {
      "text/plain": [
       "96"
      ]
     },
     "execution_count": 35,
     "metadata": {},
     "output_type": "execute_result"
    }
   ],
   "source": [
    "# Randomness\n",
    "from random import randint\n",
    "\n",
    "def random_number():\n",
    "    return randint(1,100)\n",
    "\n",
    "random_number()"
   ]
  },
  {
   "cell_type": "code",
   "execution_count": 42,
   "metadata": {},
   "outputs": [
    {
     "data": {
      "text/plain": [
       "False"
      ]
     },
     "execution_count": 42,
     "metadata": {},
     "output_type": "execute_result"
    }
   ],
   "source": [
    "#type check\n",
    "def only_ints(input1,input2):\n",
    "    return type(input1) == int and type(input2) == int\n",
    "only_ints(1,'a')"
   ]
  },
  {
   "cell_type": "code",
   "execution_count": 58,
   "metadata": {},
   "outputs": [
    {
     "data": {
      "text/plain": [
       "False"
      ]
     },
     "execution_count": 58,
     "metadata": {},
     "output_type": "execute_result"
    }
   ],
   "source": [
    "# Double letters\n",
    "def double_letters(Str):\n",
    "    previous_letter = ''\n",
    "    for current_letter in Str:\n",
    "        if current_letter == previous_letter:\n",
    "            return True\n",
    "        else:\n",
    "            previous_letter = current_letter\n",
    "\n",
    "    return False\n",
    "\n",
    "\n",
    "def double_letters(string):\n",
    "    return any([a == b for a, b in zip(string, string[1:])])\n",
    "\n",
    "string = 'Helol'\n",
    "double_letters(string)\n",
    "\n",
    "x = list(zip(string, string[2:]))  # to understand what zip does\n",
    "print(x)\n",
    "\n"
   ]
  },
  {
   "cell_type": "code",
   "execution_count": 26,
   "metadata": {},
   "outputs": [
    {
     "data": {
      "text/plain": [
       "'-2'"
      ]
     },
     "execution_count": 26,
     "metadata": {},
     "output_type": "execute_result"
    }
   ],
   "source": [
    "# Thousands separator\t7 / 10\n",
    "def format_number(N):\n",
    "\n",
    "    N_str = str(round(N))[::-1]\n",
    "    n = 3\n",
    "    sub_string = ','.join([N_str[i:i+n] for i in range(0, len(N_str), n)])[::-1]\n",
    "\n",
    "    return sub_string\n",
    "\n",
    "# built-in solution\n",
    "def format_number(n):\n",
    "    return '{:,}'.format(n)\n",
    "    'basilio {:,.1000f}'.format(90000.000010) # example of format function\n",
    "\n",
    "format_number(10000)"
   ]
  },
  {
   "cell_type": "code",
   "execution_count": 5,
   "metadata": {},
   "outputs": [
    {
     "data": {
      "text/plain": [
       "3"
      ]
     },
     "execution_count": 5,
     "metadata": {},
     "output_type": "execute_result"
    }
   ],
   "source": [
    "# Counting parameters\n",
    "def param_count(*argv):\n",
    "    return len(argv)\n",
    "\n",
    "param_count(1,2,3)  "
   ]
  },
  {
   "cell_type": "code",
   "execution_count": 14,
   "metadata": {},
   "outputs": [
    {
     "data": {
      "text/plain": [
       "True"
      ]
     },
     "execution_count": 14,
     "metadata": {},
     "output_type": "execute_result"
    }
   ],
   "source": [
    "# List xor\n",
    "def list_xor(n,list1,list2):\n",
    "    if list1.count(n) and list2.count(n):\n",
    "        return False\n",
    "    elif list1.count(n)==0 and list2.count(n)==0:\n",
    "        return False\n",
    "    else:\n",
    "        return True\n",
    "\n",
    "\n",
    "def list_xor(n, list1, list2):\n",
    "    return (n in list1) ^ (n in list2)\n",
    "\n",
    "list_xor(1, [1, 2, 3], [4, 5, 6])"
   ]
  },
  {
   "cell_type": "code",
   "execution_count": null,
   "metadata": {},
   "outputs": [],
   "source": [
    "# create gantt chart - https://towardsdatascience.com/gantt-charts-with-pythons-matplotlib-395b7af72d72\n",
    "\n",
    "def install_dependencies():\n",
    "    import subprocess\n",
    "    import sys\n",
    "    import pkg_resources\n",
    "\n",
    "    Packages = ['numpy','pandas','matplotlib','jupyter','openpyxl']\n",
    "    installed_packages = pkg_resources.working_set\n",
    "    installed_packages_list = sorted(['%s==%s' % (i.key, i.version) for i in installed_packages])\n",
    "    for pkg in Packages:\n",
    "        if any(pkg in s for s in installed_packages_list):\n",
    "            print(pkg + ' already installed')\n",
    "        else:\n",
    "            subprocess.check_call([sys.executable, '-m', 'pip', 'install', pkg])\n",
    "\n",
    "import pandas as pd\n",
    "import matplotlib.pyplot as plt\n",
    "import numpy as np\n",
    "import os\n",
    "\n",
    "install_dependencies()\n",
    "current_script_path = os.getcwd()\n",
    "df = pd.read_excel(current_script_path + '\\\\plan.xlsx')\n",
    "\n",
    "# project start date\n",
    "proj_start = df.Start.min()\n",
    "# number of days from project start to task start\n",
    "df['start_num'] = (df.Start-proj_start).dt.days\n",
    "# number of days from project start to end of tasks\n",
    "df['end_num'] = (df.End-proj_start).dt.days\n",
    "# days between start and end of each task\n",
    "df['days_start_to_end'] = df.end_num - df.start_num\n",
    "\n",
    "# show figure\n",
    "fig, ax = plt.subplots(1, figsize=(16,6))\n",
    "ax.barh(df.Task, df.days_start_to_end, left=df.start_num)\n",
    "plt.show()\n"
   ]
  },
  {
   "cell_type": "code",
   "execution_count": 20,
   "metadata": {},
   "outputs": [
    {
     "data": {
      "text/plain": [
       "{'Admin': '#E64646', 'Data collection': '#E69646', 'Data analysis': '#34D05C'}"
      ]
     },
     "execution_count": 20,
     "metadata": {},
     "output_type": "execute_result"
    }
   ],
   "source": [
    "\n",
    "# # create a column with the color for each department\n",
    "# def color(row):\n",
    "#     c_dict = {'Admin':'#E64646', 'Data collection':'#E69646', 'Data analysis':'#34D05C'}\n",
    "#     return c_dict[row['Department']]\n",
    "# df['color'] = df.apply(color, axis=1)\n",
    "\n",
    "\n",
    "\n",
    "\n",
    "\n"
   ]
  },
  {
   "cell_type": "code",
   "execution_count": 15,
   "metadata": {},
   "outputs": [
    {
     "ename": "AttributeError",
     "evalue": "'DataFrame' object has no attribute 'color'",
     "output_type": "error",
     "traceback": [
      "\u001b[1;31m---------------------------------------------------------------------------\u001b[0m",
      "\u001b[1;31mAttributeError\u001b[0m                            Traceback (most recent call last)",
      "Cell \u001b[1;32mIn [15], line 3\u001b[0m\n\u001b[0;32m      1\u001b[0m \u001b[39mfrom\u001b[39;00m \u001b[39mmatplotlib\u001b[39;00m\u001b[39m.\u001b[39;00m\u001b[39mpatches\u001b[39;00m \u001b[39mimport\u001b[39;00m Patch\n\u001b[0;32m      2\u001b[0m fig, ax \u001b[39m=\u001b[39m plt\u001b[39m.\u001b[39msubplots(\u001b[39m1\u001b[39m, figsize\u001b[39m=\u001b[39m(\u001b[39m16\u001b[39m,\u001b[39m6\u001b[39m))\n\u001b[1;32m----> 3\u001b[0m ax\u001b[39m.\u001b[39mbarh(df\u001b[39m.\u001b[39mTask, df\u001b[39m.\u001b[39mdays_start_to_end, left\u001b[39m=\u001b[39mdf\u001b[39m.\u001b[39mstart_num, color\u001b[39m=\u001b[39mdf\u001b[39m.\u001b[39;49mcolor)\n\u001b[0;32m      4\u001b[0m \u001b[39m##### LEGENDS #####\u001b[39;00m\n\u001b[0;32m      5\u001b[0m c_dict \u001b[39m=\u001b[39m {\u001b[39m'\u001b[39m\u001b[39mAdmin\u001b[39m\u001b[39m'\u001b[39m:\u001b[39m'\u001b[39m\u001b[39m#E64646\u001b[39m\u001b[39m'\u001b[39m, \u001b[39m'\u001b[39m\u001b[39mData collection\u001b[39m\u001b[39m'\u001b[39m:\u001b[39m'\u001b[39m\u001b[39m#E69646\u001b[39m\u001b[39m'\u001b[39m, \u001b[39m'\u001b[39m\u001b[39mData analysis\u001b[39m\u001b[39m'\u001b[39m:\u001b[39m'\u001b[39m\u001b[39m#34D05C\u001b[39m\u001b[39m'\u001b[39m}\n",
      "File \u001b[1;32mc:\\Code\\Git\\Python_environments\\data_science_env\\lib\\site-packages\\pandas\\core\\generic.py:5902\u001b[0m, in \u001b[0;36mNDFrame.__getattr__\u001b[1;34m(self, name)\u001b[0m\n\u001b[0;32m   5895\u001b[0m \u001b[39mif\u001b[39;00m (\n\u001b[0;32m   5896\u001b[0m     name \u001b[39mnot\u001b[39;00m \u001b[39min\u001b[39;00m \u001b[39mself\u001b[39m\u001b[39m.\u001b[39m_internal_names_set\n\u001b[0;32m   5897\u001b[0m     \u001b[39mand\u001b[39;00m name \u001b[39mnot\u001b[39;00m \u001b[39min\u001b[39;00m \u001b[39mself\u001b[39m\u001b[39m.\u001b[39m_metadata\n\u001b[0;32m   5898\u001b[0m     \u001b[39mand\u001b[39;00m name \u001b[39mnot\u001b[39;00m \u001b[39min\u001b[39;00m \u001b[39mself\u001b[39m\u001b[39m.\u001b[39m_accessors\n\u001b[0;32m   5899\u001b[0m     \u001b[39mand\u001b[39;00m \u001b[39mself\u001b[39m\u001b[39m.\u001b[39m_info_axis\u001b[39m.\u001b[39m_can_hold_identifiers_and_holds_name(name)\n\u001b[0;32m   5900\u001b[0m ):\n\u001b[0;32m   5901\u001b[0m     \u001b[39mreturn\u001b[39;00m \u001b[39mself\u001b[39m[name]\n\u001b[1;32m-> 5902\u001b[0m \u001b[39mreturn\u001b[39;00m \u001b[39mobject\u001b[39;49m\u001b[39m.\u001b[39;49m\u001b[39m__getattribute__\u001b[39;49m(\u001b[39mself\u001b[39;49m, name)\n",
      "\u001b[1;31mAttributeError\u001b[0m: 'DataFrame' object has no attribute 'color'"
     ]
    },
    {
     "data": {
      "image/png": "[encoded data removed]",
      "text/plain": [
       "<Figure size 1600x600 with 1 Axes>"
      ]
     },
     "metadata": {},
     "output_type": "display_data"
    }
   ],
   "source": [
    "from matplotlib.patches import Patch\n",
    "fig, ax = plt.subplots(1, figsize=(16,6))\n",
    "ax.barh(df.Task, df.days_start_to_end, left=df.start_num, color=df.color)\n",
    "##### LEGENDS #####\n",
    "c_dict = {'Admin':'#E64646', 'Data collection':'#E69646', 'Data analysis':'#34D05C'}\n",
    "legend_elements = [Patch(facecolor=c_dict[i], label=i)  for i in c_dict]\n",
    "plt.legend(handles=legend_elements)\n",
    "##### TICKS #####\n",
    "xticks = np.arange(0, df.end_num.max()+1, 3)\n",
    "xticks_labels = pd.date_range(proj_start, end=df.End.max()).strftime(\"%m/%d\")\n",
    "xticks_minor = np.arange(0, df.end_num.max()+1, 1)\n",
    "ax.set_xticks(xticks)\n",
    "ax.set_xticks(xticks_minor, minor=True)\n",
    "ax.set_xticklabels(xticks_labels[::3])\n",
    "plt.show()"
   ]
  },
  {
   "cell_type": "code",
   "execution_count": 11,
   "metadata": {},
   "outputs": [
    {
     "data": {
      "text/html": [
       "<div>\n",
       "<style scoped>\n",
       "    .dataframe tbody tr th:only-of-type {\n",
       "        vertical-align: middle;\n",
       "    }\n",
       "\n",
       "    .dataframe tbody tr th {\n",
       "        vertical-align: top;\n",
       "    }\n",
       "\n",
       "    .dataframe thead th {\n",
       "        text-align: right;\n",
       "    }\n",
       "</style>\n",
       "<table border=\"1\" class=\"dataframe\">\n",
       "  <thead>\n",
       "    <tr style=\"text-align: right;\">\n",
       "      <th></th>\n",
       "      <th>Task</th>\n",
       "      <th>Department</th>\n",
       "      <th>Start</th>\n",
       "      <th>End</th>\n",
       "      <th>Completion</th>\n",
       "      <th>start_num</th>\n",
       "      <th>end_num</th>\n",
       "      <th>days_start_to_end</th>\n",
       "    </tr>\n",
       "  </thead>\n",
       "  <tbody>\n",
       "    <tr>\n",
       "      <th>0</th>\n",
       "      <td>Arnold Baca</td>\n",
       "      <td>Admin</td>\n",
       "      <td>2022-10-27</td>\n",
       "      <td>2023-05-20</td>\n",
       "      <td>0</td>\n",
       "      <td>26</td>\n",
       "      <td>231</td>\n",
       "      <td>205</td>\n",
       "    </tr>\n",
       "    <tr>\n",
       "      <th>1</th>\n",
       "      <td>Rene Baumgartner</td>\n",
       "      <td>Data collection</td>\n",
       "      <td>2022-10-10</td>\n",
       "      <td>2023-02-15</td>\n",
       "      <td>0</td>\n",
       "      <td>9</td>\n",
       "      <td>137</td>\n",
       "      <td>128</td>\n",
       "    </tr>\n",
       "    <tr>\n",
       "      <th>2</th>\n",
       "      <td>Jonas Bischofberger</td>\n",
       "      <td>Data analysis</td>\n",
       "      <td>2022-10-24</td>\n",
       "      <td>2022-12-28</td>\n",
       "      <td>0</td>\n",
       "      <td>23</td>\n",
       "      <td>88</td>\n",
       "      <td>65</td>\n",
       "    </tr>\n",
       "    <tr>\n",
       "      <th>3</th>\n",
       "      <td>Amin Chetouani</td>\n",
       "      <td>Admin</td>\n",
       "      <td>2022-10-30</td>\n",
       "      <td>2023-04-03</td>\n",
       "      <td>0</td>\n",
       "      <td>29</td>\n",
       "      <td>184</td>\n",
       "      <td>155</td>\n",
       "    </tr>\n",
       "    <tr>\n",
       "      <th>4</th>\n",
       "      <td>David Deimel</td>\n",
       "      <td>Data collection</td>\n",
       "      <td>2022-10-25</td>\n",
       "      <td>2023-04-01</td>\n",
       "      <td>0</td>\n",
       "      <td>24</td>\n",
       "      <td>182</td>\n",
       "      <td>158</td>\n",
       "    </tr>\n",
       "    <tr>\n",
       "      <th>5</th>\n",
       "      <td>Reinhard Edelmoser</td>\n",
       "      <td>Data analysis</td>\n",
       "      <td>2022-11-17</td>\n",
       "      <td>2023-03-17</td>\n",
       "      <td>0</td>\n",
       "      <td>47</td>\n",
       "      <td>167</td>\n",
       "      <td>120</td>\n",
       "    </tr>\n",
       "    <tr>\n",
       "      <th>6</th>\n",
       "      <td>Johannes Eichwalder</td>\n",
       "      <td>Admin</td>\n",
       "      <td>2022-11-01</td>\n",
       "      <td>2022-12-10</td>\n",
       "      <td>0</td>\n",
       "      <td>31</td>\n",
       "      <td>70</td>\n",
       "      <td>39</td>\n",
       "    </tr>\n",
       "    <tr>\n",
       "      <th>7</th>\n",
       "      <td>Juliana Exel</td>\n",
       "      <td>Data collection</td>\n",
       "      <td>2022-11-23</td>\n",
       "      <td>2023-01-24</td>\n",
       "      <td>0</td>\n",
       "      <td>53</td>\n",
       "      <td>115</td>\n",
       "      <td>62</td>\n",
       "    </tr>\n",
       "    <tr>\n",
       "      <th>8</th>\n",
       "      <td>Basilio Goncalves</td>\n",
       "      <td>Data analysis</td>\n",
       "      <td>2022-10-08</td>\n",
       "      <td>2023-04-14</td>\n",
       "      <td>0</td>\n",
       "      <td>7</td>\n",
       "      <td>195</td>\n",
       "      <td>188</td>\n",
       "    </tr>\n",
       "    <tr>\n",
       "      <th>9</th>\n",
       "      <td>Hans Kainz</td>\n",
       "      <td>Admin</td>\n",
       "      <td>2022-11-19</td>\n",
       "      <td>2023-01-22</td>\n",
       "      <td>0</td>\n",
       "      <td>49</td>\n",
       "      <td>113</td>\n",
       "      <td>64</td>\n",
       "    </tr>\n",
       "    <tr>\n",
       "      <th>10</th>\n",
       "      <td>Paul Kaufmann</td>\n",
       "      <td>Data collection</td>\n",
       "      <td>2022-10-01</td>\n",
       "      <td>2023-04-12</td>\n",
       "      <td>0</td>\n",
       "      <td>0</td>\n",
       "      <td>193</td>\n",
       "      <td>193</td>\n",
       "    </tr>\n",
       "    <tr>\n",
       "      <th>11</th>\n",
       "      <td>Willi Koller</td>\n",
       "      <td>Data analysis</td>\n",
       "      <td>2022-10-29</td>\n",
       "      <td>2022-12-26</td>\n",
       "      <td>0</td>\n",
       "      <td>28</td>\n",
       "      <td>86</td>\n",
       "      <td>58</td>\n",
       "    </tr>\n",
       "    <tr>\n",
       "      <th>12</th>\n",
       "      <td>Philipp Kornfeind</td>\n",
       "      <td>Admin</td>\n",
       "      <td>2022-11-13</td>\n",
       "      <td>2023-05-24</td>\n",
       "      <td>0</td>\n",
       "      <td>43</td>\n",
       "      <td>235</td>\n",
       "      <td>192</td>\n",
       "    </tr>\n",
       "    <tr>\n",
       "      <th>13</th>\n",
       "      <td>Runqing (Aka.Eve) Ma</td>\n",
       "      <td>Data collection</td>\n",
       "      <td>2022-10-26</td>\n",
       "      <td>2023-04-27</td>\n",
       "      <td>0</td>\n",
       "      <td>25</td>\n",
       "      <td>208</td>\n",
       "      <td>183</td>\n",
       "    </tr>\n",
       "    <tr>\n",
       "      <th>14</th>\n",
       "      <td>Alexander Pürzel</td>\n",
       "      <td>Data analysis</td>\n",
       "      <td>2022-11-21</td>\n",
       "      <td>2023-01-07</td>\n",
       "      <td>0</td>\n",
       "      <td>51</td>\n",
       "      <td>98</td>\n",
       "      <td>47</td>\n",
       "    </tr>\n",
       "    <tr>\n",
       "      <th>15</th>\n",
       "      <td>Savvas Stafylidis</td>\n",
       "      <td>Admin</td>\n",
       "      <td>2022-11-01</td>\n",
       "      <td>2023-01-13</td>\n",
       "      <td>0</td>\n",
       "      <td>31</td>\n",
       "      <td>104</td>\n",
       "      <td>73</td>\n",
       "    </tr>\n",
       "    <tr>\n",
       "      <th>16</th>\n",
       "      <td>Gerald Steindl</td>\n",
       "      <td>Data collection</td>\n",
       "      <td>2022-11-15</td>\n",
       "      <td>2023-04-23</td>\n",
       "      <td>0</td>\n",
       "      <td>45</td>\n",
       "      <td>204</td>\n",
       "      <td>159</td>\n",
       "    </tr>\n",
       "    <tr>\n",
       "      <th>17</th>\n",
       "      <td>Oliver Strubreither</td>\n",
       "      <td>Data analysis</td>\n",
       "      <td>2022-11-10</td>\n",
       "      <td>2023-05-12</td>\n",
       "      <td>0</td>\n",
       "      <td>40</td>\n",
       "      <td>223</td>\n",
       "      <td>183</td>\n",
       "    </tr>\n",
       "    <tr>\n",
       "      <th>18</th>\n",
       "      <td>Christian Sukdolak</td>\n",
       "      <td>Admin</td>\n",
       "      <td>2022-11-20</td>\n",
       "      <td>2023-04-11</td>\n",
       "      <td>0</td>\n",
       "      <td>50</td>\n",
       "      <td>192</td>\n",
       "      <td>142</td>\n",
       "    </tr>\n",
       "    <tr>\n",
       "      <th>19</th>\n",
       "      <td>Sander J. van Sintemaartensdijk</td>\n",
       "      <td>Data collection</td>\n",
       "      <td>2022-10-15</td>\n",
       "      <td>2023-01-19</td>\n",
       "      <td>0</td>\n",
       "      <td>14</td>\n",
       "      <td>110</td>\n",
       "      <td>96</td>\n",
       "    </tr>\n",
       "    <tr>\n",
       "      <th>20</th>\n",
       "      <td>Elias Wallnöfer</td>\n",
       "      <td>Data analysis</td>\n",
       "      <td>2022-10-27</td>\n",
       "      <td>2023-03-26</td>\n",
       "      <td>0</td>\n",
       "      <td>26</td>\n",
       "      <td>176</td>\n",
       "      <td>150</td>\n",
       "    </tr>\n",
       "  </tbody>\n",
       "</table>\n",
       "</div>"
      ],
      "text/plain": [
       "                               Task      Department       Start        End  \\\n",
       "0                       Arnold Baca            Admin 2022-10-27 2023-05-20   \n",
       "1                  Rene Baumgartner  Data collection 2022-10-10 2023-02-15   \n",
       "2               Jonas Bischofberger    Data analysis 2022-10-24 2022-12-28   \n",
       "3                    Amin Chetouani            Admin 2022-10-30 2023-04-03   \n",
       "4                      David Deimel  Data collection 2022-10-25 2023-04-01   \n",
       "5                Reinhard Edelmoser    Data analysis 2022-11-17 2023-03-17   \n",
       "6               Johannes Eichwalder            Admin 2022-11-01 2022-12-10   \n",
       "7                      Juliana Exel  Data collection 2022-11-23 2023-01-24   \n",
       "8                 Basilio Goncalves    Data analysis 2022-10-08 2023-04-14   \n",
       "9                        Hans Kainz            Admin 2022-11-19 2023-01-22   \n",
       "10                    Paul Kaufmann  Data collection 2022-10-01 2023-04-12   \n",
       "11                     Willi Koller    Data analysis 2022-10-29 2022-12-26   \n",
       "12                Philipp Kornfeind            Admin 2022-11-13 2023-05-24   \n",
       "13             Runqing (Aka.Eve) Ma  Data collection 2022-10-26 2023-04-27   \n",
       "14                 Alexander Pürzel    Data analysis 2022-11-21 2023-01-07   \n",
       "15                Savvas Stafylidis            Admin 2022-11-01 2023-01-13   \n",
       "16                   Gerald Steindl  Data collection 2022-11-15 2023-04-23   \n",
       "17              Oliver Strubreither    Data analysis 2022-11-10 2023-05-12   \n",
       "18               Christian Sukdolak            Admin 2022-11-20 2023-04-11   \n",
       "19  Sander J. van Sintemaartensdijk  Data collection 2022-10-15 2023-01-19   \n",
       "20                  Elias Wallnöfer    Data analysis 2022-10-27 2023-03-26   \n",
       "\n",
       "    Completion  start_num  end_num  days_start_to_end  \n",
       "0            0         26      231                205  \n",
       "1            0          9      137                128  \n",
       "2            0         23       88                 65  \n",
       "3            0         29      184                155  \n",
       "4            0         24      182                158  \n",
       "5            0         47      167                120  \n",
       "6            0         31       70                 39  \n",
       "7            0         53      115                 62  \n",
       "8            0          7      195                188  \n",
       "9            0         49      113                 64  \n",
       "10           0          0      193                193  \n",
       "11           0         28       86                 58  \n",
       "12           0         43      235                192  \n",
       "13           0         25      208                183  \n",
       "14           0         51       98                 47  \n",
       "15           0         31      104                 73  \n",
       "16           0         45      204                159  \n",
       "17           0         40      223                183  \n",
       "18           0         50      192                142  \n",
       "19           0         14      110                 96  \n",
       "20           0         26      176                150  "
      ]
     },
     "execution_count": 11,
     "metadata": {},
     "output_type": "execute_result"
    }
   ],
   "source": [
    "df\n"
   ]
  }
 ],
 "metadata": {
  "kernelspec": {
   "display_name": "Python 3.10.8 ('data_science_env': venv)",
   "language": "python",
   "name": "python3"
  },
  "language_info": {
   "codemirror_mode": {
    "name": "ipython",
    "version": 3
   },
   "file_extension": ".py",
   "mimetype": "text/x-python",
   "name": "python",
   "nbconvert_exporter": "python",
   "pygments_lexer": "ipython3",
   "version": "3.10.8"
  },
  "orig_nbformat": 4,
  "vscode": {
   "interpreter": {
    "hash": "a2da2187c5f939d6bace25c3f016fea9570cfbfe6b2b9be895f82fc64b320192"
   }
  }
 },
 "nbformat": 4,
 "nbformat_minor": 2
}
