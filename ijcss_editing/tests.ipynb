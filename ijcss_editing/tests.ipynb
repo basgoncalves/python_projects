{
 "cells": [
  {
   "cell_type": "code",
   "execution_count": null,
   "metadata": {},
   "outputs": [],
   "source": [
    "import docs.source.conf\n",
    "import docx\n",
    "import os\n",
    "import docs\n",
    "import docs.source\n",
    "\n",
    "def rename_doc(doc_path):\n",
    "    try:\n",
    "        doc = docx.Document(doc_path)\n",
    "        try: \n",
    "            doc = docs.source.conf.texinfo_documents[doc_path]\n",
    "        except:\n",
    "            p\n",
    "    except:\n",
    "        raise ValueError(\"Could not open document\")\n",
    "    \n",
    "    # find doi\n",
    "    doi = None\n",
    "    for paragraph in doc.paragraphs:\n",
    "        if \"doi\" in paragraph.text.lower():\n",
    "            doi = paragraph.text.split(\":\")[-1].strip()\n",
    "            break\n",
    "    # find authors\n",
    "    authors = None\n",
    "    for paragraph in doc.paragraphs:\n",
    "        if \"authors\" in paragraph.text.lower():\n",
    "            authors = paragraph.text.split(\":\")[-1].strip()\n",
    "            break\n",
    "    \n",
    "    new_name = os.path.join(os.path.dirname(doc_path), f\"{doi}_{authors[0]}.docx\")\n",
    "    print(new_name)\n",
    "    # os.rename(doc_path, os.path.join(os.path.dirname(doc_path), new_name))\n",
    "    \n",
    "path = r\"Z:\\iacss\\IACSS_IJCSS\\IJCSS\\Volumes\\Vol242025Ed1\\1-Plain Papers\\Final_Revised_Article.doc\"\n",
    "rename_doc(path)\n"
   ]
  },
  {
   "cell_type": "code",
   "execution_count": null,
   "metadata": {},
   "outputs": [],
   "source": [
    "from docx import Document\n",
    "from docs import source\n",
    "from docs.source import conf\n",
    "import os\n",
    "\n",
    "def get_author_from_docx(file_path):\n",
    "    try:\n",
    "        try:\n",
    "            doc = Document(file_path)\n",
    "            core_properties = doc.core_properties\n",
    "            return core_properties.author\n",
    "        except:\n",
    "            doc = conf.texinfo_documents[file_path]\n",
    "            return doc[\"author\"]\n",
    "    except ValueError as e:\n",
    "        print(f\"Error processing file {file_path}: {e}\")\n",
    "        return None\n",
    "    except FileNotFoundError:\n",
    "        print(f\"File not found: {file_path}\")\n",
    "        return None\n",
    "    except Exception as e:\n",
    "        print(f\"An unexpected error occurred: {e}\")\n",
    "        return None\n",
    "# Example usage:\n",
    "path = r\"Z:\\iacss\\IACSS_IJCSS\\IJCSS\\Volumes\\Vol242025Ed1\\1-Plain Papers\\Final_Revised_Article.doc\"\n",
    "print(path)\n",
    "get_author_from_docx(path)"
   ]
  }
 ],
 "metadata": {
  "kernelspec": {
   "display_name": "msk_modelling",
   "language": "python",
   "name": "python3"
  },
  "language_info": {
   "codemirror_mode": {
    "name": "ipython",
    "version": 3
   },
   "file_extension": ".py",
   "mimetype": "text/x-python",
   "name": "python",
   "nbconvert_exporter": "python",
   "pygments_lexer": "ipython3",
   "version": "3.8.10"
  }
 },
 "nbformat": 4,
 "nbformat_minor": 2
}
