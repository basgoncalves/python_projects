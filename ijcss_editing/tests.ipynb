{
 "cells": [
  {
   "cell_type": "code",
   "execution_count": 2,
   "metadata": {},
   "outputs": [
    {
     "ename": "ValueError",
     "evalue": "file 'Z:\\iacss\\IACSS_IJCSS\\IJCSS\\Volumes\\Vol242025Ed1\\1-Plain Papers\\Final_Revised_Article.doc' is not a Word file, content type is 'application/vnd.openxmlformats-officedocument.themeManager+xml'",
     "output_type": "error",
     "traceback": [
      "\u001b[1;31m---------------------------------------------------------------------------\u001b[0m",
      "\u001b[1;31mValueError\u001b[0m                                Traceback (most recent call last)",
      "Cell \u001b[1;32mIn[2], line 25\u001b[0m\n\u001b[0;32m     22\u001b[0m     \u001b[38;5;66;03m# os.rename(doc_path, os.path.join(os.path.dirname(doc_path), new_name))\u001b[39;00m\n\u001b[0;32m     24\u001b[0m path \u001b[38;5;241m=\u001b[39m \u001b[38;5;124mr\u001b[39m\u001b[38;5;124m\"\u001b[39m\u001b[38;5;124mZ:\u001b[39m\u001b[38;5;124m\\\u001b[39m\u001b[38;5;124miacss\u001b[39m\u001b[38;5;124m\\\u001b[39m\u001b[38;5;124mIACSS_IJCSS\u001b[39m\u001b[38;5;124m\\\u001b[39m\u001b[38;5;124mIJCSS\u001b[39m\u001b[38;5;124m\\\u001b[39m\u001b[38;5;124mVolumes\u001b[39m\u001b[38;5;124m\\\u001b[39m\u001b[38;5;124mVol242025Ed1\u001b[39m\u001b[38;5;124m\\\u001b[39m\u001b[38;5;124m1-Plain Papers\u001b[39m\u001b[38;5;124m\\\u001b[39m\u001b[38;5;124mFinal_Revised_Article.doc\u001b[39m\u001b[38;5;124m\"\u001b[39m\n\u001b[1;32m---> 25\u001b[0m \u001b[43mrename_doc\u001b[49m\u001b[43m(\u001b[49m\u001b[43mpath\u001b[49m\u001b[43m)\u001b[49m\n",
      "Cell \u001b[1;32mIn[2], line 5\u001b[0m, in \u001b[0;36mrename_doc\u001b[1;34m(doc_path)\u001b[0m\n\u001b[0;32m      4\u001b[0m \u001b[38;5;28;01mdef\u001b[39;00m \u001b[38;5;21mrename_doc\u001b[39m(doc_path):\n\u001b[1;32m----> 5\u001b[0m     doc \u001b[38;5;241m=\u001b[39m \u001b[43mdocx\u001b[49m\u001b[38;5;241;43m.\u001b[39;49m\u001b[43mDocument\u001b[49m\u001b[43m(\u001b[49m\u001b[43mdoc_path\u001b[49m\u001b[43m)\u001b[49m\n\u001b[0;32m      7\u001b[0m     \u001b[38;5;66;03m# find doi\u001b[39;00m\n\u001b[0;32m      8\u001b[0m     doi \u001b[38;5;241m=\u001b[39m \u001b[38;5;28;01mNone\u001b[39;00m\n",
      "File \u001b[1;32mc:\\Git\\python-envs\\msk_modelling\\lib\\site-packages\\docx\\api.py:30\u001b[0m, in \u001b[0;36mDocument\u001b[1;34m(docx)\u001b[0m\n\u001b[0;32m     28\u001b[0m \u001b[38;5;28;01mif\u001b[39;00m document_part\u001b[38;5;241m.\u001b[39mcontent_type \u001b[38;5;241m!=\u001b[39m CT\u001b[38;5;241m.\u001b[39mWML_DOCUMENT_MAIN:\n\u001b[0;32m     29\u001b[0m     tmpl \u001b[38;5;241m=\u001b[39m \u001b[38;5;124m\"\u001b[39m\u001b[38;5;124mfile \u001b[39m\u001b[38;5;124m'\u001b[39m\u001b[38;5;132;01m%s\u001b[39;00m\u001b[38;5;124m'\u001b[39m\u001b[38;5;124m is not a Word file, content type is \u001b[39m\u001b[38;5;124m'\u001b[39m\u001b[38;5;132;01m%s\u001b[39;00m\u001b[38;5;124m'\u001b[39m\u001b[38;5;124m\"\u001b[39m\n\u001b[1;32m---> 30\u001b[0m     \u001b[38;5;28;01mraise\u001b[39;00m \u001b[38;5;167;01mValueError\u001b[39;00m(tmpl \u001b[38;5;241m%\u001b[39m (docx, document_part\u001b[38;5;241m.\u001b[39mcontent_type))\n\u001b[0;32m     31\u001b[0m \u001b[38;5;28;01mreturn\u001b[39;00m document_part\u001b[38;5;241m.\u001b[39mdocument\n",
      "\u001b[1;31mValueError\u001b[0m: file 'Z:\\iacss\\IACSS_IJCSS\\IJCSS\\Volumes\\Vol242025Ed1\\1-Plain Papers\\Final_Revised_Article.doc' is not a Word file, content type is 'application/vnd.openxmlformats-officedocument.themeManager+xml'"
     ]
    }
   ],
   "source": [
    "import docx\n",
    "import os\n",
    "\n",
    "def rename_doc(doc_path):\n",
    "    doc = docx.Document(doc_path)\n",
    "    \n",
    "    # find doi\n",
    "    doi = None\n",
    "    for paragraph in doc.paragraphs:\n",
    "        if \"doi\" in paragraph.text.lower():\n",
    "            doi = paragraph.text.split(\":\")[-1].strip()\n",
    "            break\n",
    "    # find authors\n",
    "    authors = None\n",
    "    for paragraph in doc.paragraphs:\n",
    "        if \"authors\" in paragraph.text.lower():\n",
    "            authors = paragraph.text.split(\":\")[-1].strip()\n",
    "            break\n",
    "    \n",
    "    new_name = os.path.join(os.path.dirname(doc_path), f\"{doi}_{authors[0]}.docx\")\n",
    "    print(new_name)\n",
    "    # os.rename(doc_path, os.path.join(os.path.dirname(doc_path), new_name))\n",
    "    \n",
    "path = r\"Z:\\iacss\\IACSS_IJCSS\\IJCSS\\Volumes\\Vol242025Ed1\\1-Plain Papers\\Final_Revised_Article.doc\"\n",
    "rename_doc(path)\n"
   ]
  }
 ],
 "metadata": {
  "kernelspec": {
   "display_name": "msk_modelling",
   "language": "python",
   "name": "python3"
  },
  "language_info": {
   "codemirror_mode": {
    "name": "ipython",
    "version": 3
   },
   "file_extension": ".py",
   "mimetype": "text/x-python",
   "name": "python",
   "nbconvert_exporter": "python",
   "pygments_lexer": "ipython3",
   "version": "3.8.10"
  }
 },
 "nbformat": 4,
 "nbformat_minor": 2
}
