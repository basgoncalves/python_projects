{
 "cells": [
  {
   "cell_type": "code",
   "execution_count": 9,
   "metadata": {},
   "outputs": [],
   "source": [
    "# import packages\n",
    "import subprocess \n",
    "import aspose.words as aw\n",
    "import os\n",
    "from tkinter import Tk\n",
    "from tkinter.filedialog import askopenfilename, askdirectory\n",
    "from docx2pdf import convert\n",
    "import shutil\n",
    "from docx import Document\n",
    "\n",
    "\n",
    "word_file_path = r'Z:\\iacss\\IACSS_IJCSS\\IJCSS\\Volumes\\Vol222023Ed1\\3-Uploads\\10516-Volume22-Issue1\\Content Specification.docx'\n",
    "\n",
    "document = Document(word_file_path)\n"
   ]
  },
  {
   "cell_type": "code",
   "execution_count": 10,
   "metadata": {},
   "outputs": [
    {
     "name": "stdout",
     "output_type": "stream",
     "text": [
      "Content Specifications Document\n",
      "<docx.text.paragraph.Paragraph object at 0x0000020CECFA53F0>\n"
     ]
    }
   ],
   "source": [
    "\n",
    "paragraph = document.paragraphs[0]\n",
    "print(paragraph.text)\n",
    "\n",
    "print(document.add_paragraph('iugdfoüewihnfökj'))\n",
    "\n",
    "document.save(r'Z:\\iacss\\IACSS_IJCSS\\IJCSS\\Volumes\\Vol222023Ed1\\3-Uploads\\10516-Volume22-Issue1\\Content Specification_demo.docx')"
   ]
  }
 ],
 "metadata": {
  "kernelspec": {
   "display_name": "Python 3",
   "language": "python",
   "name": "python3"
  },
  "language_info": {
   "codemirror_mode": {
    "name": "ipython",
    "version": 3
   },
   "file_extension": ".py",
   "mimetype": "text/x-python",
   "name": "python",
   "nbconvert_exporter": "python",
   "pygments_lexer": "ipython3",
   "version": "3.10.8"
  },
  "orig_nbformat": 4,
  "vscode": {
   "interpreter": {
    "hash": "ff6112af49b3833da0490db166f9d223de76c8696f7aa6ddf799f267add999df"
   }
  }
 },
 "nbformat": 4,
 "nbformat_minor": 2
}
