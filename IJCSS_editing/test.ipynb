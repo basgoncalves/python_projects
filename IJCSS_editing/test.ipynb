{
 "cells": [
  {
   "cell_type": "code",
   "execution_count": null,
   "metadata": {},
   "outputs": [],
   "source": [
    "from docx import Document\n",
    "\n",
    "document = Document(\"./test.docx\")\n",
    "proof_doc = Document(\"./proof_template.docx\")\n",
    "par = document.paragraphs\n",
    "idx = 0\n",
    "for p in document.paragraphs:\n",
    "    idx += 1\n",
    "    p2 = str(p.text)\n",
    "    if p.style.name.startswith('Abstract_Header_IJCSS') & p2.__contains__('Abstract'):        \n",
    "        abstract = p\n",
    "        idx_abs = idx\n",
    "    elif p.style.name.startswith('1 IJCSS Chapter_Heeading') & p2.__contains__('Introduction'):\n",
    "        intro = p\n",
    "        idx_intro = idx\n",
    "    elif p.style.name.startswith('1 IJCSS Chapter_Heeading') & p2.__contains__('Methods'):\n",
    "        Methods = p\n",
    "        idx_Methods = idx\n",
    "\n",
    "document.paragraphs[idx_abs].text # text abstract\n",
    "\n",
    "txt = ''\n",
    "for i in list(range(idx_intro,idx_Methods-1)):\n",
    "    txt += document.paragraphs[i].text\n",
    "\n",
    "print(txt)\n",
    "\n"
   ]
  },
  {
   "cell_type": "code",
   "execution_count": 89,
   "metadata": {},
   "outputs": [
    {
     "name": "stdout",
     "output_type": "stream",
     "text": [
      "23\n"
     ]
    }
   ],
   "source": [
    "page_number = document.sections[0].footer.paragraphs[0]\n",
    "print(page_number.text)\n",
    "# for p in proof_doc.paragraphs:\n",
    "#     idx += 1\n",
    "#     p2 = str(p.text)\n",
    "#     if p2.__contains__('Abstract'):\n",
    "#         p.text = abstract\n",
    "#         print(abstract)\n",
    "        \n",
    "\n",
    "# document.save('proof_final.docx')\n"
   ]
  },
  {
   "cell_type": "code",
   "execution_count": 57,
   "metadata": {},
   "outputs": [
    {
     "name": "stdout",
     "output_type": "stream",
     "text": [
      "The overhand (or overarm) ball throw is a fundamental movement skill, comprising a common motor pattern used in several sports like baseball, softball and, in the case of athletics, the javelin throw (van Beurden et al., 2002). Performance in the latter was found to be related to release velocity, as well as with various spatiotemporal parameters, such as knee and elbow angles, torso inclination, etc., that comprise, among others, variables that interpret the javelin throw technique (Panoutsakopoulos & Kollias, 2013). \n",
      "\t\t\n"
     ]
    }
   ],
   "source": [
    "print(document.paragraphs[idx_intro].text)\n",
    "\n",
    "sections = document.sections\n",
    "\n",
    "for section in sections:\n",
    "    print(section.header.paragraphs[1].text)"
   ]
  }
 ],
 "metadata": {
  "kernelspec": {
   "display_name": "Python 3.10.8 ('IJCSS_env': venv)",
   "language": "python",
   "name": "python3"
  },
  "language_info": {
   "codemirror_mode": {
    "name": "ipython",
    "version": 3
   },
   "file_extension": ".py",
   "mimetype": "text/x-python",
   "name": "python",
   "nbconvert_exporter": "python",
   "pygments_lexer": "ipython3",
   "version": "3.10.8"
  },
  "orig_nbformat": 4,
  "vscode": {
   "interpreter": {
    "hash": "0b9def22b34b9ee77c5fcab3de2296f7b70840e3bf6a15b9f18782b81df58fd4"
   }
  }
 },
 "nbformat": 4,
 "nbformat_minor": 2
}
