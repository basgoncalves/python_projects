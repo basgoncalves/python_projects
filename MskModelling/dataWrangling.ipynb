{
 "cells": [
  {
   "cell_type": "code",
   "execution_count": null,
   "metadata": {},
   "outputs": [],
   "source": [
    "import requests\n",
    "import os\n",
    "from bs4 import BeautifulSoup\n",
    "import pandas as pd\n",
    "from distutils.dir_util import copy_tree\n",
    "import shutil\n",
    "\n",
    "# copy files from HARD drive\n",
    "current_script_path = os.getcwd() # 'os.path.dirname(__file__)' if.py  'os.getcwd() ' if  .ipynb)\n",
    "datafolder = r'D:\\3-PhD\\Data\\MocapData\\ElaboratedData'\n",
    "new_folder = r'C:\\Users\\Biomech\\Documents\\DataFolder\\Running_FAI'\n",
    "subject_folders = os.listdir(datafolder)\n",
    "folders_to_copy = ['ceinms', 'dynamicElaborations', 'inverseDynamics',\n",
    "                   'inverseKinematics','JointReactionAnalysis']\n",
    "\n",
    "\n",
    "for subject in subject_folders[21:]:\n",
    "    for fname in folders_to_copy:\n",
    "        src = os.path.join(datafolder, subject,'pre',fname)\n",
    "        dst = os.path.join(new_folder, subject,'pre',fname)\n",
    "        if not os.path.isdir(dst):\n",
    "            os.makedirs(dst)\n",
    "        print(str('copying ' + subject + ' ' + fname))\n",
    "        shutil.copytree(src, dst,dirs_exist_ok=True)\n",
    "        \n"
   ]
  },
  {
   "cell_type": "code",
   "execution_count": 102,
   "metadata": {},
   "outputs": [
    {
     "name": "stdout",
     "output_type": "stream",
     "text": [
      "['007', '008', '009', '010', '012', '013', '015', '017', '018', '019', '021', '022', '024', '025', '026', '027', '028', '029', '030', '031', '032', '033', '034', '036', '037', '038', '039', '040', '041', '043', '044', '045', '047', '048', '050', '052', '054', '055', '056', '058', '060', '061', '064', '070', '072', '073', '074', '075', '076', '077', '078', '079']\n"
     ]
    }
   ],
   "source": []
  },
  {
   "cell_type": "code",
   "execution_count": 99,
   "metadata": {},
   "outputs": [
    {
     "name": "stdout",
     "output_type": "stream",
     "text": [
      "benzene\n"
     ]
    }
   ],
   "source": []
  }
 ],
 "metadata": {
  "kernelspec": {
   "display_name": "Python 3",
   "language": "python",
   "name": "python3"
  },
  "language_info": {
   "codemirror_mode": {
    "name": "ipython",
    "version": 3
   },
   "file_extension": ".py",
   "mimetype": "text/x-python",
   "name": "python",
   "nbconvert_exporter": "python",
   "pygments_lexer": "ipython3",
   "version": "3.10.8 (tags/v3.10.8:aaaf517, Oct 11 2022, 16:50:30) [MSC v.1933 64 bit (AMD64)]"
  },
  "orig_nbformat": 4,
  "vscode": {
   "interpreter": {
    "hash": "ff6112af49b3833da0490db166f9d223de76c8696f7aa6ddf799f267add999df"
   }
  }
 },
 "nbformat": 4,
 "nbformat_minor": 2
}
