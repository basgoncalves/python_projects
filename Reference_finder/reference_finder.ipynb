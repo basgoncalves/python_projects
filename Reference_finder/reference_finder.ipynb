{
 "cells": [
  {
   "cell_type": "code",
   "execution_count": 2,
   "metadata": {},
   "outputs": [
    {
     "name": "stdout",
     "output_type": "stream",
     "text": [
      "Paste the pubmed URL for the paper: \n",
      "\n"
     ]
    }
   ],
   "source": [
    "print(\"Paste the pubmed URL for the paper: \")\n",
    "username = \"https://pubmed.ncbi.nlm.nih.gov/12121686/\"\n",
    "\n",
    "print(username)"
   ]
  }
 ],
 "metadata": {
  "kernelspec": {
   "display_name": "Python 3.10.8 ('IJCSS_env': venv)",
   "language": "python",
   "name": "python3"
  },
  "language_info": {
   "codemirror_mode": {
    "name": "ipython",
    "version": 3
   },
   "file_extension": ".py",
   "mimetype": "text/x-python",
   "name": "python",
   "nbconvert_exporter": "python",
   "pygments_lexer": "ipython3",
   "version": "3.10.8"
  },
  "orig_nbformat": 4,
  "vscode": {
   "interpreter": {
    "hash": "0b9def22b34b9ee77c5fcab3de2296f7b70840e3bf6a15b9f18782b81df58fd4"
   }
  }
 },
 "nbformat": 4,
 "nbformat_minor": 2
}
