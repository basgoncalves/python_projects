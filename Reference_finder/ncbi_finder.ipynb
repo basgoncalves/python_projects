{
 "cells": [
  {
   "cell_type": "code",
   "execution_count": 9,
   "metadata": {},
   "outputs": [
    {
     "name": "stdout",
     "output_type": "stream",
     "text": [
      "c:\\Code\\Git\\Python_projects\\Reference_finder\n"
     ]
    }
   ],
   "source": [
    "import requests\n",
    "import os\n",
    "from bs4 import BeautifulSoup\n",
    "import pandas as pd\n",
    "from selenium import webdriver\n",
    "from selenium.webdriver.chrome.service import Service\n",
    "from webdriver_manager.chrome import ChromeDriverManager\n",
    "import time\n",
    "from pathlib import Path\n",
    "from tkinter import Tk\n",
    "import pyperclip as pyc\n",
    "\n",
    "# find location of current file\n",
    "# (use '__file__' if using .py OR 'os.getcwd() ' if using ipynb)\n",
    "current_script_path = os.getcwd()\n",
    "print(current_script_path)\n"
   ]
  },
  {
   "cell_type": "code",
   "execution_count": 36,
   "metadata": {},
   "outputs": [
    {
     "name": "stdout",
     "output_type": "stream",
     "text": [
      "Paste the pubmed URL for the paper: \n",
      "requsting data from https://pubmed.ncbi.nlm.nih.gov/12121686/\n",
      "('Britt Elfving', '2002', 'Journal of electromyography and kinesiology : official journal of the International Society of Electrophysiological Kinesiology', 'Influence of interelectrode distance and force level on the spectral parameters of surface electromyographic recordings from the lumbar muscles', 'doi: 10.1016/s1050-6411(02)00027-5.')\n"
     ]
    }
   ],
   "source": [
    "\n",
    "print(\"Paste the pubmed URL for the paper: \")\n",
    "url = \"https://pubmed.ncbi.nlm.nih.gov/12121686/\"\n",
    "print(\"requsting data from \" + url)\n",
    "\n",
    "data = requests.get(url)            # request data\n",
    "\n",
    "filename = os.path.join(current_script_path, '.\\\\ncbi.html')\n",
    "with open(filename, 'w+', encoding=\"utf-8\") as f:\n",
    "    f.write(data.text)\n",
    "\n",
    "\n",
    "# create data frame\n",
    "dfs = []\n",
    "\n",
    "with open(filename, 'r', encoding=\"utf-8\") as f:\n",
    "    page = f.read()\n",
    "\n",
    "soup = BeautifulSoup(page, 'html.parser')\n",
    "authors = soup.findAll('a', class_='full-name')\n",
    "names = []\n",
    "for i in range(0,len(authors)):\n",
    "    names.append(authors[i]['data-ga-label'])\n",
    "\n",
    "title = soup.find('h1', class_='heading-title').text.strip()\n",
    "journal = soup.find('div', class_='journal-actions dropdown-block').button['title']\n",
    "year = soup.find('span', class_='cit').text[0:4]\n",
    "doi = soup.find('span', class_='citation-doi').text.strip()\n",
    "\n",
    "data = {'Name': [names[0]],'year': [year], 'journal': [journal], \n",
    "        'title': [title], 'doi': [doi], 'url': [url]}\n",
    "\n",
    "df = pd.DataFrame(data)\n",
    "df[0:].to_clipboard(excel=True, sep=None, index=False, header=None)\n",
    "\n",
    "data = (names[0], year, journal, title, doi)\n",
    "print(data)\n"
   ]
  }
 ],
 "metadata": {
  "kernelspec": {
   "display_name": "Python 3.10.8 ('data_science_env': venv)",
   "language": "python",
   "name": "python3"
  },
  "language_info": {
   "codemirror_mode": {
    "name": "ipython",
    "version": 3
   },
   "file_extension": ".py",
   "mimetype": "text/x-python",
   "name": "python",
   "nbconvert_exporter": "python",
   "pygments_lexer": "ipython3",
   "version": "3.10.8"
  },
  "orig_nbformat": 4,
  "vscode": {
   "interpreter": {
    "hash": "a2da2187c5f939d6bace25c3f016fea9570cfbfe6b2b9be895f82fc64b320192"
   }
  }
 },
 "nbformat": 4,
 "nbformat_minor": 2
}
