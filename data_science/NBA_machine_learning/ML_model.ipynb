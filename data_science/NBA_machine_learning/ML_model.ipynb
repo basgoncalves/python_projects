{
 "cells": [
  {
   "cell_type": "code",
   "execution_count": 8,
   "metadata": {},
   "outputs": [],
   "source": [
    "import pandas as pd\n",
    "import os\n",
    "\n",
    "cwd = os.getcwd() # change for '__file__' if using .py \n",
    "\n",
    "stats = pd.read_csv((cwd + '\\player_mvp_stats.csv'))  \n",
    "del stats['Unnamed: 0']\n",
    "pd.isnull(stats).sum()                                              # check for missing values\n",
    "stats[pd.isnull(stats['3P%'])][['Player','3PA']]                    # check the columns Player and 3PA for anyvalue where the 3P% is null (likely due to 3PA == 0)\n",
    "stats = stats.fillna(0)"
   ]
  },
  {
   "cell_type": "code",
   "execution_count": 20,
   "metadata": {},
   "outputs": [
    {
     "name": "stdout",
     "output_type": "stream",
     "text": [
      "\u001b[3;30;42mno NaNs found\u001b[0m\n"
     ]
    }
   ],
   "source": [
    "n_Nan = sum(pd.isnull(stats).sum())\n",
    "if n_Nan > 0:\n",
    "    print('\\x1b[7;31;40m' + 'there are some \"Nan\" values here' + '\\x1b[0m')                                          # check for missing values\n",
    "    print(('n = ' + str(n_Nan)))\n",
    "else:\n",
    "    print('\\x1b[3;30;42m' + 'no NaNs found' + '\\x1b[0m')     # check more colours in https://stackoverflow.com/questions/287871/how-do-i-print-colored-text-to-the-terminal\n"
   ]
  },
  {
   "cell_type": "code",
   "execution_count": 28,
   "metadata": {},
   "outputs": [],
   "source": [
    "stats.columns\n",
    "# trying to predict share so remove the variablkes that directly relate to it ('Pts Won', 'Pts Max', 'Share')\n",
    "\n",
    "predictors = ['Age_x', 'G', 'GS', 'MP', 'FG', 'FGA', 'FG%',\n",
    "       '3P', '3PA', '3P%', '2P', '2PA', '2P%', 'eFG%', 'FT', 'FTA', 'FT%',\n",
    "       'ORB', 'DRB', 'TRB', 'AST', 'STL', 'BLK', 'TOV', 'PF', 'PTS', 'Year',\n",
    "       'Age_y', 'W', 'L', 'W/L%', 'GB',\n",
    "       'PS/G', 'PA/G', 'SRS']\n",
    "\n",
    "train = stats[stats['Year'] < 2021]\n",
    "test  = stats[stats['Year'] == 2021]"
   ]
  },
  {
   "cell_type": "code",
   "execution_count": 66,
   "metadata": {},
   "outputs": [
    {
     "data": {
      "text/html": [
       "<div>\n",
       "<style scoped>\n",
       "    .dataframe tbody tr th:only-of-type {\n",
       "        vertical-align: middle;\n",
       "    }\n",
       "\n",
       "    .dataframe tbody tr th {\n",
       "        vertical-align: top;\n",
       "    }\n",
       "\n",
       "    .dataframe thead th {\n",
       "        text-align: right;\n",
       "    }\n",
       "</style>\n",
       "<table border=\"1\" class=\"dataframe\">\n",
       "  <thead>\n",
       "    <tr style=\"text-align: right;\">\n",
       "      <th></th>\n",
       "      <th>Player</th>\n",
       "      <th>Share</th>\n",
       "      <th>predictions</th>\n",
       "      <th>Rk</th>\n",
       "      <th>Rk_predicted</th>\n",
       "    </tr>\n",
       "  </thead>\n",
       "  <tbody>\n",
       "    <tr>\n",
       "      <th>3736</th>\n",
       "      <td>LeBron James</td>\n",
       "      <td>0.001</td>\n",
       "      <td>0.240651</td>\n",
       "      <td>15</td>\n",
       "      <td>1</td>\n",
       "    </tr>\n",
       "    <tr>\n",
       "      <th>9907</th>\n",
       "      <td>Giannis Antetokounmpo</td>\n",
       "      <td>0.345</td>\n",
       "      <td>0.234324</td>\n",
       "      <td>4</td>\n",
       "      <td>2</td>\n",
       "    </tr>\n",
       "    <tr>\n",
       "      <th>3651</th>\n",
       "      <td>Stephen Curry</td>\n",
       "      <td>0.449</td>\n",
       "      <td>0.222280</td>\n",
       "      <td>3</td>\n",
       "      <td>3</td>\n",
       "    </tr>\n",
       "    <tr>\n",
       "      <th>4174</th>\n",
       "      <td>James Harden</td>\n",
       "      <td>0.001</td>\n",
       "      <td>0.206627</td>\n",
       "      <td>13</td>\n",
       "      <td>4</td>\n",
       "    </tr>\n",
       "    <tr>\n",
       "      <th>3876</th>\n",
       "      <td>Russell Westbrook</td>\n",
       "      <td>0.005</td>\n",
       "      <td>0.199391</td>\n",
       "      <td>11</td>\n",
       "      <td>5</td>\n",
       "    </tr>\n",
       "    <tr>\n",
       "      <th>8624</th>\n",
       "      <td>Joel Embiid</td>\n",
       "      <td>0.580</td>\n",
       "      <td>0.198365</td>\n",
       "      <td>2</td>\n",
       "      <td>6</td>\n",
       "    </tr>\n",
       "    <tr>\n",
       "      <th>7464</th>\n",
       "      <td>Damian Lillard</td>\n",
       "      <td>0.038</td>\n",
       "      <td>0.191812</td>\n",
       "      <td>7</td>\n",
       "      <td>7</td>\n",
       "    </tr>\n",
       "    <tr>\n",
       "      <th>641</th>\n",
       "      <td>Nikola Jokić</td>\n",
       "      <td>0.961</td>\n",
       "      <td>0.189447</td>\n",
       "      <td>1</td>\n",
       "      <td>8</td>\n",
       "    </tr>\n",
       "    <tr>\n",
       "      <th>1389</th>\n",
       "      <td>Chris Paul</td>\n",
       "      <td>0.138</td>\n",
       "      <td>0.187032</td>\n",
       "      <td>5</td>\n",
       "      <td>9</td>\n",
       "    </tr>\n",
       "    <tr>\n",
       "      <th>5328</th>\n",
       "      <td>Kawhi Leonard</td>\n",
       "      <td>0.001</td>\n",
       "      <td>0.186364</td>\n",
       "      <td>14</td>\n",
       "      <td>10</td>\n",
       "    </tr>\n",
       "  </tbody>\n",
       "</table>\n",
       "</div>"
      ],
      "text/plain": [
       "                     Player  Share  predictions  Rk  Rk_predicted\n",
       "3736           LeBron James  0.001     0.240651  15             1\n",
       "9907  Giannis Antetokounmpo  0.345     0.234324   4             2\n",
       "3651          Stephen Curry  0.449     0.222280   3             3\n",
       "4174           James Harden  0.001     0.206627  13             4\n",
       "3876      Russell Westbrook  0.005     0.199391  11             5\n",
       "8624            Joel Embiid  0.580     0.198365   2             6\n",
       "7464         Damian Lillard  0.038     0.191812   7             7\n",
       "641            Nikola Jokić  0.961     0.189447   1             8\n",
       "1389             Chris Paul  0.138     0.187032   5             9\n",
       "5328          Kawhi Leonard  0.001     0.186364  14            10"
      ]
     },
     "execution_count": 66,
     "metadata": {},
     "output_type": "execute_result"
    }
   ],
   "source": [
    "from sklearn.linear_model import Ridge\n",
    "\n",
    "reg = Ridge(alpha = .5)   # this how much does the algorithm prevent overfitting\n",
    "reg.fit(train[predictors],train['Share'])\n",
    "predictions = reg.predict(test[predictors])\n",
    "predictions = pd.DataFrame(predictions, columns=['predictions'], index = test.index)\n",
    "\n",
    "results = pd.concat([test[['Player','Share']],predictions], axis=1)  # add the columns Player, Share, Preditions\n",
    "\n",
    "results = results.sort_values('Share', ascending = False)                                       # create rank columns for actual observations and predicted dats\n",
    "results['Rk'] = list(range(1,results.shape[0]+1))\n",
    "\n",
    "results = results.sort_values('predictions', ascending = False)\n",
    "results['Rk_predicted'] = list(range(1,results.shape[0]+1))\n",
    "\n",
    "results.head(10)"
   ]
  },
  {
   "cell_type": "code",
   "execution_count": null,
   "metadata": {},
   "outputs": [],
   "source": [
    "from sklearn.metrics import mean_squared_error\n",
    "\n",
    "mean_squared_error(results[]['Share'],results['predictions'])       # this is not very useful because we want the rank "
   ]
  }
 ],
 "metadata": {
  "interpreter": {
   "hash": "ccaf4f2b870b44d404ebc97758e8555864a76105cb721a293c812313f4b24d8e"
  },
  "kernelspec": {
   "display_name": "Python 3.8.10 64-bit (windows store)",
   "language": "python",
   "name": "python3"
  },
  "language_info": {
   "codemirror_mode": {
    "name": "ipython",
    "version": 3
   },
   "file_extension": ".py",
   "mimetype": "text/x-python",
   "name": "python",
   "nbconvert_exporter": "python",
   "pygments_lexer": "ipython3",
   "version": "3.8.10"
  },
  "orig_nbformat": 4
 },
 "nbformat": 4,
 "nbformat_minor": 2
}
