{
 "cells": [
  {
   "cell_type": "code",
   "execution_count": 10,
   "metadata": {},
   "outputs": [
    {
     "name": "stdout",
     "output_type": "stream",
     "text": [
      "<class 'xml.etree.ElementTree.Element'>\n"
     ]
    }
   ],
   "source": [
    "# adding msk_modelling_pkg_install to the system path\n",
    "import sys\n",
    "sys.path.append(r'..\\Utils')\n",
    "import msk_modelling_pkg_install\n",
    "\n",
    "import os\n",
    "from bs4 import BeautifulSoup\n",
    "import pandas as pd\n",
    "from distutils.dir_util import copy_tree\n",
    "import shutil\n",
    "import osimPaths as op\n",
    "\n",
    "\n",
    "try:\n",
    "    current_script_path = os.path.dirname(__file__) # 'os.path.dirname(__file__)' if.py  'os.getcwd() ' \n",
    "except:\n",
    "    current_script_path = os.getcwd() # if .ipynb\n",
    "    \n",
    "datafolder = r'Z:\\EMG_realtime_biofeedback'\n",
    "\n",
    "Dir = op.getosimPath(datafolder)\n",
    "\n",
    "print(type(Dir))\n"
   ]
  },
  {
   "cell_type": "code",
   "execution_count": 17,
   "metadata": {},
   "outputs": [
    {
     "name": "stdout",
     "output_type": "stream",
     "text": [
      "bops\n",
      "osimVersion {}\n",
      "current {}\n",
      "analysis_mode {}\n",
      "analyses {}\n",
      "analyses_settings {}\n",
      "plot_analysis {}\n",
      "plot_variables {}\n",
      "dataStructure {}\n",
      "Laboratory {}\n",
      "emg {}\n",
      "subjects {}\n",
      "sessions {}\n",
      "Trials {}\n",
      "filters {}\n",
      "xmlPref {}\n",
      "directories {}\n",
      "[<Element 'osimVersion' at 0x000001A6DBDDD2B0>]\n"
     ]
    }
   ],
   "source": [
    "print(Dir.tag)\n",
    "\n",
    "for child in Dir:\n",
    "    print(child.tag, child.attrib)\n",
    "    \n",
    "osimversion = Dir.findall('osimVersion')"
   ]
  }
 ],
 "metadata": {
  "kernelspec": {
   "display_name": "mskmodelling",
   "language": "python",
   "name": "python3"
  },
  "language_info": {
   "codemirror_mode": {
    "name": "ipython",
    "version": 3
   },
   "file_extension": ".py",
   "mimetype": "text/x-python",
   "name": "python",
   "nbconvert_exporter": "python",
   "pygments_lexer": "ipython3",
   "version": "3.10.8 (tags/v3.10.8:aaaf517, Oct 11 2022, 16:50:30) [MSC v.1933 64 bit (AMD64)]"
  },
  "orig_nbformat": 4,
  "vscode": {
   "interpreter": {
    "hash": "949f2f0f2526686ec3904f554c020f847ba2c24501bad1eaa85b1433cede9204"
   }
  }
 },
 "nbformat": 4,
 "nbformat_minor": 2
}
